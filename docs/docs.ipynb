{
 "cells": [
  {
   "cell_type": "code",
   "execution_count": 1,
   "metadata": {},
   "outputs": [],
   "source": [
    "import redframes as rf"
   ]
  },
  {
   "cell_type": "code",
   "execution_count": 2,
   "metadata": {},
   "outputs": [],
   "source": [
    "def markdown(df: rf.DataFrame, index: bool = False):\n",
    "    mrkdstr = df._data.to_markdown(index=index)\n",
    "    print(mrkdstr, \"\\n\")"
   ]
  },
  {
   "cell_type": "code",
   "execution_count": null,
   "metadata": {},
   "outputs": [],
   "source": [
    "df = rf.DataFrame({\"foo\": [1, 2, 3, 4]})\n",
    "markdown(df)\n",
    "df1 = df.accumulate(\"foo\", into=\"cumsum\")\n",
    "markdown(df1);"
   ]
  },
  {
   "cell_type": "code",
   "execution_count": null,
   "metadata": {},
   "outputs": [],
   "source": [
    "df1 = rf.DataFrame({\"foo\": [1, 2], \"bar\": [\"A\", \"B\"]})\n",
    "markdown(df1)\n",
    "df2 = rf.DataFrame({\"bar\": [\"C\", \"D\"], \"foo\": [3, 4], \"baz\": [\"$\", \"@\"]})\n",
    "markdown(df2)\n",
    "df = df1.append(df2)\n",
    "markdown(df)"
   ]
  },
  {
   "cell_type": "code",
   "execution_count": null,
   "metadata": {},
   "outputs": [],
   "source": [
    "df = rf.DataFrame({\"foo\": [1, 2], \"bar\": [\"A\", \"B\"]})\n",
    "markdown(df)\n",
    "df1 = df.combine([\"bar\", \"foo\"], into=\"baz\", sep=\"::\", drop=True)\n",
    "markdown(df1)"
   ]
  },
  {
   "cell_type": "code",
   "execution_count": null,
   "metadata": {},
   "outputs": [],
   "source": [
    "df = rf.DataFrame({\"foo\": [1, 1, 2, 2], \"bar\": [\"A\", \"A\", \"B\", \"A\"]})\n",
    "markdown(df)\n",
    "df1 = df.dedupe()\n",
    "markdown(df1)\n",
    "df2 = df.dedupe(\"foo\")\n",
    "markdown(df2)\n",
    "df3 = df.dedupe([\"foo\", \"bar\"])\n",
    "markdown(df3)"
   ]
  },
  {
   "cell_type": "code",
   "execution_count": null,
   "metadata": {},
   "outputs": [],
   "source": [
    "df = rf.DataFrame({\"foo\": [1, None, 3, None, 5, 6], \"bar\": [1, None, 3, 4, None, None]})\n",
    "markdown(df)\n",
    "df1 = df.denix()\n",
    "markdown(df1)\n",
    "df2 = df.denix(\"bar\")\n",
    "markdown(df2)\n",
    "df3 = df.denix([\"foo\", \"bar\"])\n",
    "markdown(df3)"
   ]
  },
  {
   "cell_type": "code",
   "execution_count": null,
   "metadata": {},
   "outputs": [],
   "source": [
    "df = rf.DataFrame({\"foo\": [1, 2], \"bar\": [3, 4], \"baz\": [5, 6]})\n",
    "markdown(df)\n",
    "df1 = df.drop(\"baz\")\n",
    "markdown(df1)\n",
    "df2 = df.drop([\"foo\", \"baz\"])\n",
    "markdown(df2)"
   ]
  },
  {
   "cell_type": "code",
   "execution_count": null,
   "metadata": {},
   "outputs": [],
   "source": [
    "df = rf.DataFrame({\"foo\": [1, None, None, 2, None], \"bar\": [None, \"A\", None, \"B\", None]})\n",
    "markdown(df)\n",
    "df1 = df.fill(constant=0)\n",
    "markdown(df1)\n",
    "df2 = df.fill(direction=\"down\")\n",
    "markdown(df2)\n",
    "df3 = df.fill(\"foo\", direction=\"down\")\n",
    "markdown(df3)\n",
    "df4 = df.fill([\"foo\"], direction=\"up\")\n",
    "markdown(df4)\n",
    "df5 = df.fill([\"foo\"], constant=0)\n",
    "markdown(df5)"
   ]
  },
  {
   "cell_type": "code",
   "execution_count": null,
   "metadata": {},
   "outputs": [],
   "source": [
    "df = rf.DataFrame({\"foo\": [\"A\", \"A\", \"A\", \"B\"], \"bar\": [1, 2, 3, 4]})\n",
    "markdown(df)\n",
    "df1 = df.filter(lambda row: row[\"foo\"].isin([\"A\"]))\n",
    "markdown(df1)\n",
    "df2 = df.filter(lambda row: (row[\"foo\"] == \"A\") & (row[\"bar\"] <= 2))\n",
    "markdown(df2)\n",
    "df3 = df.filter(lambda row: (row[\"foo\"] == \"B\") | (row[\"bar\"] == 1))\n",
    "markdown(df3)"
   ]
  },
  {
   "cell_type": "code",
   "execution_count": 3,
   "metadata": {},
   "outputs": [
    {
     "name": "stdout",
     "output_type": "stream",
     "text": [
      "|   foo |   bar |   baz |\n",
      "|------:|------:|------:|\n",
      "|     1 |     3 |     4 |\n",
      "|     2 |     4 |     5 | \n",
      "\n",
      "| variable   |   value |\n",
      "|:-----------|--------:|\n",
      "| foo        |       1 |\n",
      "| foo        |       2 |\n",
      "| bar        |       3 |\n",
      "| bar        |       4 |\n",
      "| baz        |       4 |\n",
      "| baz        |       5 | \n",
      "\n",
      "|   bar |   baz | variable   |   value |\n",
      "|------:|------:|:-----------|--------:|\n",
      "|     3 |     4 | foo        |       1 |\n",
      "|     4 |     5 | foo        |       2 | \n",
      "\n",
      "|   baz | var   |   val |\n",
      "|------:|:------|------:|\n",
      "|     4 | foo   |     1 |\n",
      "|     5 | foo   |     2 |\n",
      "|     4 | bar   |     3 |\n",
      "|     5 | bar   |     4 | \n",
      "\n"
     ]
    }
   ],
   "source": [
    "df = rf.DataFrame({\"foo\": [1, 2], \"bar\": [3, 4], \"baz\": [4, 5]})\n",
    "markdown(df)\n",
    "df1 = df.gather()\n",
    "markdown(df1)\n",
    "df2 = df.gather(\"foo\")\n",
    "markdown(df2)\n",
    "df3 = df.gather([\"foo\", \"bar\"], into=(\"var\", \"val\"))\n",
    "markdown(df3)"
   ]
  },
  {
   "cell_type": "code",
   "execution_count": null,
   "metadata": {},
   "outputs": [],
   "source": [
    "df = rf.DataFrame({\"foo\": [\"A\", \"A\", \"A\", \"B\", \"B\"], \"bar\": [1, 2, 3, 4, 5], \"baz\": [9, 7, 7, 5, 6]})\n",
    "markdown(df)\n",
    "df1 = df.group(\"foo\").take(1)\n",
    "markdown(df1)\n",
    "df2 = df.group(\"foo\").accumulate(\"bar\", into=\"bar_cumsum\")\n",
    "markdown(df2)\n",
    "df3 = df.group(\"foo\").rank(\"baz\", into=\"baz_rank\", descending=True)\n",
    "markdown(df3)\n",
    "df4 = df.group(\"foo\").summarize({\n",
    "    \"bar_mean\": (\"bar\", rf.stat.mean), \n",
    "    \"baz_min\": (\"baz\", rf.stat.min)\n",
    "})\n",
    "markdown(df4)\n"
   ]
  },
  {
   "cell_type": "code",
   "execution_count": null,
   "metadata": {},
   "outputs": [],
   "source": [
    "dfl = rf.DataFrame({\"foo\": [\"A\", \"A\", \"B\", \"B\"], \"bar\": [1, 2, 3, 4]})\n",
    "markdown(dfl)\n",
    "dfr = rf.DataFrame({\"foo\": [\"A\", \"B\"], \"bar\": [5, 6], \"baz\": [\"!\", None]})\n",
    "markdown(dfr)\n",
    "df = dfl.join(dfr, on=\"foo\", how=\"left\")\n",
    "markdown(df)"
   ]
  },
  {
   "cell_type": "code",
   "execution_count": null,
   "metadata": {},
   "outputs": [],
   "source": [
    "df = rf.DataFrame({\"foo\": [1, 2, 3]})\n",
    "markdown(df)\n",
    "df = df.mutate({\n",
    "    \"bar\": lambda row: float(row[\"foo\"]), \n",
    "    \"baz\": lambda row: \"X\" + str(row[\"bar\"] * 2),\n",
    "    \"jaz\": lambda _: \"Jazz\"\n",
    "})\n",
    "markdown(df)"
   ]
  },
  {
   "cell_type": "code",
   "execution_count": null,
   "metadata": {},
   "outputs": [],
   "source": [
    "df = rf.DataFrame({\"foo\": [2, 3, 3, 99, 1000, 1, -6, 4]})\n",
    "markdown(df)\n",
    "df = df.rank(\"foo\", into=\"rank\", descending=True)\n",
    "markdown(df)"
   ]
  },
  {
   "cell_type": "code",
   "execution_count": null,
   "metadata": {},
   "outputs": [],
   "source": [
    "df = rf.DataFrame({\"foo\": [1, 2], \"bar\": [3, 4]})\n",
    "markdown(df)\n",
    "df = df.rename({\"foo\": \"oof\", \"bar\": \"rab\"})\n",
    "markdown(df)"
   ]
  },
  {
   "cell_type": "code",
   "execution_count": null,
   "metadata": {},
   "outputs": [],
   "source": [
    "df = rf.DataFrame({\"foo\": [1, 2, 2, 2, 1], \"bar\": [1, \"A\", \"B\", True, False]})\n",
    "markdown(df)\n",
    "df = df.replace({\n",
    "    \"foo\": {2: 222}, \n",
    "    \"bar\": {False: 0, True: 1, \"A\": 2, \"B\": 3}\n",
    "})\n",
    "markdown(df)"
   ]
  },
  {
   "cell_type": "code",
   "execution_count": null,
   "metadata": {},
   "outputs": [],
   "source": [
    "df = rf.DataFrame({\"foo\": range(10), \"bar\": range(10, 20)})\n",
    "markdown(df)\n",
    "df1 = df.sample()\n",
    "markdown(df1)\n",
    "df2 = df.sample(1)\n",
    "markdown(df2)\n",
    "df3 = df.sample(0.3)\n",
    "markdown(df3)\n",
    "df4 = df.sample(3)\n",
    "markdown(df4)"
   ]
  },
  {
   "cell_type": "code",
   "execution_count": null,
   "metadata": {},
   "outputs": [],
   "source": [
    "df = rf.DataFrame({\"foo\": [1, 2], \"bar\": [3, 4], \"baz\": [5, 6]})\n",
    "markdown(df)\n",
    "df1 = df.select(\"foo\")\n",
    "markdown(df1)\n",
    "df2 = df.select([\"foo\", \"baz\"])\n",
    "markdown(df2)"
   ]
  },
  {
   "cell_type": "code",
   "execution_count": null,
   "metadata": {},
   "outputs": [],
   "source": [
    "df = rf.DataFrame({\"foo\": range(5), \"bar\": range(5, 10)})\n",
    "markdown(df)\n",
    "df = df.shuffle()\n",
    "markdown(df)"
   ]
  },
  {
   "cell_type": "code",
   "execution_count": null,
   "metadata": {},
   "outputs": [],
   "source": [
    "df = rf.DataFrame({\"foo\": [\"Z\", \"X\", \"A\", \"A\"], \"bar\": [2, -2, 4, -4]})\n",
    "markdown(df)\n",
    "df1 = df.sort(\"bar\")\n",
    "markdown(df1)\n",
    "df2 = df.sort(\"bar\", descending=True)\n",
    "markdown(df2)\n",
    "df3 = df.sort([\"foo\", \"bar\"], descending=False)\n",
    "markdown(df3)"
   ]
  },
  {
   "cell_type": "code",
   "execution_count": null,
   "metadata": {},
   "outputs": [],
   "source": [
    "df = rf.DataFrame({\"foo\": [\"A::1\", \"B::2\", \"C:3\"]})\n",
    "markdown(df)\n",
    "df = df.split(\"foo\", into=[\"foo\", \"bar\"], sep=\"::\", drop=True)\n",
    "markdown(df)"
   ]
  },
  {
   "cell_type": "code",
   "execution_count": null,
   "metadata": {},
   "outputs": [],
   "source": [
    "df = rf.DataFrame({\"foo\": [\"A\", \"A\", \"A\", \"B\", \"B\", \"B\", \"B\"], \"bar\": [1, 2, 3, 4, 5, 6, 7]})\n",
    "markdown(df)\n",
    "df = df.spread(\"foo\", using=\"bar\")\n",
    "markdown(df)"
   ]
  },
  {
   "cell_type": "code",
   "execution_count": null,
   "metadata": {},
   "outputs": [],
   "source": [
    "df = rf.DataFrame({\"foo\": [1, 2, 3, 4, 5], \"bar\": [99, 100, 1, -5, 2]})\n",
    "markdown(df)\n",
    "df = df.summarize({\n",
    "    \"fcount\": (\"foo\", rf.stat.count),\n",
    "    \"fmean\": (\"foo\", rf.stat.mean),\n",
    "    \"fsum\": (\"foo\", rf.stat.sum),\n",
    "    \"fmax\": (\"foo\", rf.stat.max),\n",
    "    \"bmedian\": (\"bar\", rf.stat.median),\n",
    "    \"bmin\": (\"bar\", rf.stat.min),\n",
    "    \"bstd\": (\"bar\", rf.stat.std)\n",
    "})\n",
    "markdown(df)"
   ]
  },
  {
   "cell_type": "code",
   "execution_count": null,
   "metadata": {},
   "outputs": [],
   "source": [
    "df = rf.DataFrame({\"foo\": range(10)})\n",
    "markdown(df)\n",
    "df1 = df.take(1)\n",
    "markdown(df1)\n",
    "df2 = df.take(-2)\n",
    "markdown(df2)"
   ]
  }
 ],
 "metadata": {
  "kernelspec": {
   "display_name": "Python 3.9.11 ('venv': venv)",
   "language": "python",
   "name": "python3"
  },
  "language_info": {
   "codemirror_mode": {
    "name": "ipython",
    "version": 3
   },
   "file_extension": ".py",
   "mimetype": "text/x-python",
   "name": "python",
   "nbconvert_exporter": "python",
   "pygments_lexer": "ipython3",
   "version": "3.9.11"
  },
  "orig_nbformat": 4,
  "vscode": {
   "interpreter": {
    "hash": "902b3964cc0fd8c5f56a5e6d7b3fb1813b76e5dc8a4888dd00cf91d4b7198f4a"
   }
  }
 },
 "nbformat": 4,
 "nbformat_minor": 2
}
