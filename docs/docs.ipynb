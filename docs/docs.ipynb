{
 "cells": [
  {
   "cell_type": "code",
   "execution_count": 1,
   "metadata": {},
   "outputs": [],
   "source": [
    "import redframes as rf"
   ]
  },
  {
   "cell_type": "code",
   "execution_count": 2,
   "metadata": {},
   "outputs": [],
   "source": [
    "def markdown(df: rf.DataFrame, index: bool = False):\n",
    "    mrkdstr = df._data.to_markdown(index=index)\n",
    "    print(mrkdstr, \"\\n\")"
   ]
  },
  {
   "cell_type": "code",
   "execution_count": 3,
   "metadata": {},
   "outputs": [
    {
     "name": "stdout",
     "output_type": "stream",
     "text": [
      "|   foo |\n",
      "|------:|\n",
      "|     1 |\n",
      "|     2 |\n",
      "|     3 |\n",
      "|     4 | \n",
      "\n",
      "|   foo |   cumsum |\n",
      "|------:|---------:|\n",
      "|     1 |        1 |\n",
      "|     2 |        3 |\n",
      "|     3 |        6 |\n",
      "|     4 |       10 | \n",
      "\n"
     ]
    }
   ],
   "source": [
    "df = rf.DataFrame({\"foo\": [1, 2, 3, 4]})\n",
    "markdown(df)\n",
    "df1 = df.accumulate(\"foo\", into=\"cumsum\")\n",
    "markdown(df1);"
   ]
  },
  {
   "cell_type": "code",
   "execution_count": 4,
   "metadata": {},
   "outputs": [
    {
     "name": "stdout",
     "output_type": "stream",
     "text": [
      "|   foo | bar   |\n",
      "|------:|:------|\n",
      "|     1 | A     |\n",
      "|     2 | B     | \n",
      "\n",
      "| bar   |   foo | baz   |\n",
      "|:------|------:|:------|\n",
      "| C     |     3 | $     |\n",
      "| D     |     4 | @     | \n",
      "\n",
      "|   foo | bar   | baz   |\n",
      "|------:|:------|:------|\n",
      "|     1 | A     | nan   |\n",
      "|     2 | B     | nan   |\n",
      "|     3 | C     | $     |\n",
      "|     4 | D     | @     | \n",
      "\n"
     ]
    }
   ],
   "source": [
    "df1 = rf.DataFrame({\"foo\": [1, 2], \"bar\": [\"A\", \"B\"]})\n",
    "markdown(df1)\n",
    "df2 = rf.DataFrame({\"bar\": [\"C\", \"D\"], \"foo\": [3, 4], \"baz\": [\"$\", \"@\"]})\n",
    "markdown(df2)\n",
    "df = df1.append(df2)\n",
    "markdown(df)"
   ]
  },
  {
   "cell_type": "code",
   "execution_count": 5,
   "metadata": {},
   "outputs": [
    {
     "name": "stdout",
     "output_type": "stream",
     "text": [
      "|   foo | bar   |\n",
      "|------:|:------|\n",
      "|     1 | A     |\n",
      "|     2 | B     | \n",
      "\n",
      "| baz   |\n",
      "|:------|\n",
      "| A::1  |\n",
      "| B::2  | \n",
      "\n"
     ]
    }
   ],
   "source": [
    "df = rf.DataFrame({\"foo\": [1, 2], \"bar\": [\"A\", \"B\"]})\n",
    "markdown(df)\n",
    "df1 = df.combine([\"bar\", \"foo\"], into=\"baz\", sep=\"::\", drop=True)\n",
    "markdown(df1)"
   ]
  },
  {
   "cell_type": "code",
   "execution_count": 6,
   "metadata": {},
   "outputs": [
    {
     "name": "stdout",
     "output_type": "stream",
     "text": [
      "|   foo | bar   |\n",
      "|------:|:------|\n",
      "|     1 | A     |\n",
      "|     1 | A     |\n",
      "|     2 | B     |\n",
      "|     2 | A     | \n",
      "\n",
      "|   foo | bar   |\n",
      "|------:|:------|\n",
      "|     1 | A     |\n",
      "|     2 | B     |\n",
      "|     2 | A     | \n",
      "\n",
      "|   foo | bar   |\n",
      "|------:|:------|\n",
      "|     1 | A     |\n",
      "|     2 | B     | \n",
      "\n",
      "|   foo | bar   |\n",
      "|------:|:------|\n",
      "|     1 | A     |\n",
      "|     2 | B     |\n",
      "|     2 | A     | \n",
      "\n"
     ]
    }
   ],
   "source": [
    "df = rf.DataFrame({\"foo\": [1, 1, 2, 2], \"bar\": [\"A\", \"A\", \"B\", \"A\"]})\n",
    "markdown(df)\n",
    "df1 = df.dedupe()\n",
    "markdown(df1)\n",
    "df2 = df.dedupe(\"foo\")\n",
    "markdown(df2)\n",
    "df3 = df.dedupe([\"foo\", \"bar\"])\n",
    "markdown(df3)"
   ]
  },
  {
   "cell_type": "code",
   "execution_count": 7,
   "metadata": {},
   "outputs": [
    {
     "name": "stdout",
     "output_type": "stream",
     "text": [
      "|   foo |   bar |\n",
      "|------:|------:|\n",
      "|     1 |     1 |\n",
      "|   nan |   nan |\n",
      "|     3 |     3 |\n",
      "|   nan |     4 |\n",
      "|     5 |   nan |\n",
      "|     6 |   nan | \n",
      "\n",
      "|   foo |   bar |\n",
      "|------:|------:|\n",
      "|     1 |     1 |\n",
      "|     3 |     3 | \n",
      "\n",
      "|   foo |   bar |\n",
      "|------:|------:|\n",
      "|     1 |     1 |\n",
      "|     3 |     3 |\n",
      "|   nan |     4 | \n",
      "\n",
      "|   foo |   bar |\n",
      "|------:|------:|\n",
      "|     1 |     1 |\n",
      "|     3 |     3 | \n",
      "\n"
     ]
    }
   ],
   "source": [
    "df = rf.DataFrame({\"foo\": [1, None, 3, None, 5, 6], \"bar\": [1, None, 3, 4, None, None]})\n",
    "markdown(df)\n",
    "df1 = df.denix()\n",
    "markdown(df1)\n",
    "df2 = df.denix(\"bar\")\n",
    "markdown(df2)\n",
    "df3 = df.denix([\"foo\", \"bar\"])\n",
    "markdown(df3)"
   ]
  },
  {
   "cell_type": "code",
   "execution_count": 8,
   "metadata": {},
   "outputs": [
    {
     "name": "stdout",
     "output_type": "stream",
     "text": [
      "|   foo |   bar |   baz |\n",
      "|------:|------:|------:|\n",
      "|     1 |     3 |     5 |\n",
      "|     2 |     4 |     6 | \n",
      "\n",
      "|   foo |   bar |\n",
      "|------:|------:|\n",
      "|     1 |     3 |\n",
      "|     2 |     4 | \n",
      "\n",
      "|   bar |\n",
      "|------:|\n",
      "|     3 |\n",
      "|     4 | \n",
      "\n"
     ]
    }
   ],
   "source": [
    "df = rf.DataFrame({\"foo\": [1, 2], \"bar\": [3, 4], \"baz\": [5, 6]})\n",
    "markdown(df)\n",
    "df1 = df.drop(\"baz\")\n",
    "markdown(df1)\n",
    "df2 = df.drop([\"foo\", \"baz\"])\n",
    "markdown(df2)"
   ]
  },
  {
   "cell_type": "code",
   "execution_count": 9,
   "metadata": {},
   "outputs": [
    {
     "name": "stdout",
     "output_type": "stream",
     "text": [
      "|   foo | bar   |\n",
      "|------:|:------|\n",
      "|     1 |       |\n",
      "|   nan | A     |\n",
      "|   nan |       |\n",
      "|     2 | B     |\n",
      "|   nan |       | \n",
      "\n",
      "|   foo | bar   |\n",
      "|------:|:------|\n",
      "|     1 | 0     |\n",
      "|     0 | A     |\n",
      "|     0 | 0     |\n",
      "|     2 | B     |\n",
      "|     0 | 0     | \n",
      "\n",
      "|   foo | bar   |\n",
      "|------:|:------|\n",
      "|     1 |       |\n",
      "|     1 | A     |\n",
      "|     1 | A     |\n",
      "|     2 | B     |\n",
      "|     2 | B     | \n",
      "\n",
      "|   foo | bar   |\n",
      "|------:|:------|\n",
      "|     1 |       |\n",
      "|     1 | A     |\n",
      "|     1 |       |\n",
      "|     2 | B     |\n",
      "|     2 |       | \n",
      "\n",
      "|   foo | bar   |\n",
      "|------:|:------|\n",
      "|     1 |       |\n",
      "|     2 | A     |\n",
      "|     2 |       |\n",
      "|     2 | B     |\n",
      "|   nan |       | \n",
      "\n",
      "|   foo | bar   |\n",
      "|------:|:------|\n",
      "|     1 |       |\n",
      "|     0 | A     |\n",
      "|     0 |       |\n",
      "|     2 | B     |\n",
      "|     0 |       | \n",
      "\n"
     ]
    }
   ],
   "source": [
    "df = rf.DataFrame({\"foo\": [1, None, None, 2, None], \"bar\": [None, \"A\", None, \"B\", None]})\n",
    "markdown(df)\n",
    "df1 = df.fill(constant=0)\n",
    "markdown(df1)\n",
    "df2 = df.fill(direction=\"down\")\n",
    "markdown(df2)\n",
    "df3 = df.fill(\"foo\", direction=\"down\")\n",
    "markdown(df3)\n",
    "df4 = df.fill([\"foo\"], direction=\"up\")\n",
    "markdown(df4)\n",
    "df5 = df.fill([\"foo\"], constant=0)\n",
    "markdown(df5)"
   ]
  },
  {
   "cell_type": "code",
   "execution_count": 10,
   "metadata": {},
   "outputs": [
    {
     "name": "stdout",
     "output_type": "stream",
     "text": [
      "| foo   |   bar |\n",
      "|:------|------:|\n",
      "| A     |     1 |\n",
      "| A     |     2 |\n",
      "| A     |     3 |\n",
      "| B     |     4 | \n",
      "\n",
      "| foo   |   bar |\n",
      "|:------|------:|\n",
      "| A     |     1 |\n",
      "| A     |     2 |\n",
      "| A     |     3 | \n",
      "\n",
      "| foo   |   bar |\n",
      "|:------|------:|\n",
      "| A     |     1 |\n",
      "| A     |     2 | \n",
      "\n",
      "| foo   |   bar |\n",
      "|:------|------:|\n",
      "| A     |     1 |\n",
      "| B     |     4 | \n",
      "\n"
     ]
    }
   ],
   "source": [
    "df = rf.DataFrame({\"foo\": [\"A\", \"A\", \"A\", \"B\"], \"bar\": [1, 2, 3, 4]})\n",
    "markdown(df)\n",
    "df1 = df.filter(lambda row: row[\"foo\"].isin([\"A\"]))\n",
    "markdown(df1)\n",
    "df2 = df.filter(lambda row: (row[\"foo\"] == \"A\") & (row[\"bar\"] <= 2))\n",
    "markdown(df2)\n",
    "df3 = df.filter(lambda row: (row[\"foo\"] == \"B\") | (row[\"bar\"] == 1))\n",
    "markdown(df3)"
   ]
  },
  {
   "cell_type": "code",
   "execution_count": 11,
   "metadata": {},
   "outputs": [
    {
     "name": "stdout",
     "output_type": "stream",
     "text": [
      "|   foo |   bar |   baz |\n",
      "|------:|------:|------:|\n",
      "|     1 |     3 |     4 |\n",
      "|     2 |     4 |     5 | \n",
      "\n",
      "| variable   |   value |\n",
      "|:-----------|--------:|\n",
      "| foo        |       1 |\n",
      "| foo        |       2 |\n",
      "| bar        |       3 |\n",
      "| bar        |       4 |\n",
      "| baz        |       4 |\n",
      "| baz        |       5 | \n",
      "\n",
      "|   bar |   baz | variable   |   value |\n",
      "|------:|------:|:-----------|--------:|\n",
      "|     3 |     4 | foo        |       1 |\n",
      "|     4 |     5 | foo        |       2 | \n",
      "\n",
      "|   baz | var   |   val |\n",
      "|------:|:------|------:|\n",
      "|     4 | foo   |     1 |\n",
      "|     5 | foo   |     2 |\n",
      "|     4 | bar   |     3 |\n",
      "|     5 | bar   |     4 | \n",
      "\n"
     ]
    }
   ],
   "source": [
    "df = rf.DataFrame({\"foo\": [1, 2], \"bar\": [3, 4], \"baz\": [4, 5]})\n",
    "markdown(df)\n",
    "df1 = df.gather()\n",
    "markdown(df1)\n",
    "df2 = df.gather([\"foo\"])\n",
    "markdown(df2)\n",
    "df3 = df.gather([\"foo\", \"bar\"], into=(\"var\", \"val\"))\n",
    "markdown(df3)"
   ]
  },
  {
   "cell_type": "code",
   "execution_count": 12,
   "metadata": {},
   "outputs": [
    {
     "name": "stdout",
     "output_type": "stream",
     "text": [
      "| foo   |   bar |   baz |\n",
      "|:------|------:|------:|\n",
      "| A     |     1 |     9 |\n",
      "| A     |     2 |     7 |\n",
      "| A     |     3 |     7 |\n",
      "| B     |     4 |     5 |\n",
      "| B     |     5 |     6 | \n",
      "\n",
      "| foo   |   bar |   baz |\n",
      "|:------|------:|------:|\n",
      "| A     |     1 |     9 |\n",
      "| B     |     4 |     5 | \n",
      "\n",
      "| foo   |   bar |   baz |   bar_cumsum |\n",
      "|:------|------:|------:|-------------:|\n",
      "| A     |     1 |     9 |            1 |\n",
      "| A     |     2 |     7 |            3 |\n",
      "| A     |     3 |     7 |            6 |\n",
      "| B     |     4 |     5 |            4 |\n",
      "| B     |     5 |     6 |            9 | \n",
      "\n",
      "| foo   |   bar |   baz |   baz_rank |\n",
      "|:------|------:|------:|-----------:|\n",
      "| A     |     1 |     9 |          1 |\n",
      "| A     |     2 |     7 |          2 |\n",
      "| A     |     3 |     7 |          2 |\n",
      "| B     |     4 |     5 |          2 |\n",
      "| B     |     5 |     6 |          1 | \n",
      "\n",
      "| foo   |   bar_mean |   baz_min |\n",
      "|:------|-----------:|----------:|\n",
      "| A     |        2   |         7 |\n",
      "| B     |        4.5 |         5 | \n",
      "\n"
     ]
    }
   ],
   "source": [
    "df = rf.DataFrame({\"foo\": [\"A\", \"A\", \"A\", \"B\", \"B\"], \"bar\": [1, 2, 3, 4, 5], \"baz\": [9, 7, 7, 5, 6]})\n",
    "markdown(df)\n",
    "df1 = df.group(\"foo\").take(1)\n",
    "markdown(df1)\n",
    "df2 = df.group(\"foo\").accumulate(\"bar\", into=\"bar_cumsum\")\n",
    "markdown(df2)\n",
    "df3 = df.group(\"foo\").rank(\"baz\", into=\"baz_rank\", descending=True)\n",
    "markdown(df3)\n",
    "df4 = df.group(\"foo\").summarize({\n",
    "    \"bar_mean\": (\"bar\", rf.stat.mean), \n",
    "    \"baz_min\": (\"baz\", rf.stat.min)\n",
    "})\n",
    "markdown(df4)\n"
   ]
  },
  {
   "cell_type": "code",
   "execution_count": 13,
   "metadata": {},
   "outputs": [
    {
     "name": "stdout",
     "output_type": "stream",
     "text": [
      "| foo   |   bar |\n",
      "|:------|------:|\n",
      "| A     |     1 |\n",
      "| A     |     2 |\n",
      "| B     |     3 |\n",
      "| B     |     4 | \n",
      "\n",
      "| foo   |   bar | baz   |\n",
      "|:------|------:|:------|\n",
      "| A     |     5 | !     |\n",
      "| B     |     6 |       | \n",
      "\n",
      "| foo   |   bar_lhs |   bar_rhs | baz   |\n",
      "|:------|----------:|----------:|:------|\n",
      "| A     |         1 |         5 | !     |\n",
      "| A     |         2 |         5 | !     |\n",
      "| B     |         3 |         6 |       |\n",
      "| B     |         4 |         6 |       | \n",
      "\n"
     ]
    }
   ],
   "source": [
    "dfl = rf.DataFrame({\"foo\": [\"A\", \"A\", \"B\", \"B\"], \"bar\": [1, 2, 3, 4]})\n",
    "markdown(dfl)\n",
    "dfr = rf.DataFrame({\"foo\": [\"A\", \"B\"], \"bar\": [5, 6], \"baz\": [\"!\", None]})\n",
    "markdown(dfr)\n",
    "df = dfl.join(dfr, on=\"foo\", how=\"left\")\n",
    "markdown(df)"
   ]
  },
  {
   "cell_type": "code",
   "execution_count": 14,
   "metadata": {},
   "outputs": [
    {
     "name": "stdout",
     "output_type": "stream",
     "text": [
      "|   foo |\n",
      "|------:|\n",
      "|     1 |\n",
      "|     2 |\n",
      "|     3 | \n",
      "\n",
      "|   foo |   bar | baz   | jaz   |\n",
      "|------:|------:|:------|:------|\n",
      "|     1 |     1 | X2.0  | Jazz  |\n",
      "|     2 |     2 | X4.0  | Jazz  |\n",
      "|     3 |     3 | X6.0  | Jazz  | \n",
      "\n"
     ]
    }
   ],
   "source": [
    "df = rf.DataFrame({\"foo\": [1, 2, 3]})\n",
    "markdown(df)\n",
    "df = df.mutate({\n",
    "    \"bar\": lambda row: float(row[\"foo\"]), \n",
    "    \"baz\": lambda row: \"X\" + str(row[\"bar\"] * 2),\n",
    "    \"jaz\": lambda _: \"Jazz\"\n",
    "})\n",
    "markdown(df)"
   ]
  },
  {
   "cell_type": "code",
   "execution_count": 15,
   "metadata": {},
   "outputs": [
    {
     "name": "stdout",
     "output_type": "stream",
     "text": [
      "|   foo |\n",
      "|------:|\n",
      "|     2 |\n",
      "|     3 |\n",
      "|     3 |\n",
      "|    99 |\n",
      "|  1000 |\n",
      "|     1 |\n",
      "|    -6 |\n",
      "|     4 | \n",
      "\n",
      "|   foo |   rank |\n",
      "|------:|-------:|\n",
      "|     2 |      5 |\n",
      "|     3 |      4 |\n",
      "|     3 |      4 |\n",
      "|    99 |      2 |\n",
      "|  1000 |      1 |\n",
      "|     1 |      6 |\n",
      "|    -6 |      7 |\n",
      "|     4 |      3 | \n",
      "\n"
     ]
    }
   ],
   "source": [
    "df = rf.DataFrame({\"foo\": [2, 3, 3, 99, 1000, 1, -6, 4]})\n",
    "markdown(df)\n",
    "df = df.rank(\"foo\", into=\"rank\", descending=True)\n",
    "markdown(df)"
   ]
  },
  {
   "cell_type": "code",
   "execution_count": 16,
   "metadata": {},
   "outputs": [
    {
     "name": "stdout",
     "output_type": "stream",
     "text": [
      "|   foo |   bar |\n",
      "|------:|------:|\n",
      "|     1 |     3 |\n",
      "|     2 |     4 | \n",
      "\n",
      "|   oof |   rab |\n",
      "|------:|------:|\n",
      "|     1 |     3 |\n",
      "|     2 |     4 | \n",
      "\n"
     ]
    }
   ],
   "source": [
    "df = rf.DataFrame({\"foo\": [1, 2], \"bar\": [3, 4]})\n",
    "markdown(df)\n",
    "df = df.rename({\"foo\": \"oof\", \"bar\": \"rab\"})\n",
    "markdown(df)"
   ]
  },
  {
   "cell_type": "code",
   "execution_count": 17,
   "metadata": {},
   "outputs": [
    {
     "name": "stdout",
     "output_type": "stream",
     "text": [
      "|   foo | bar   |\n",
      "|------:|:------|\n",
      "|     1 | 1     |\n",
      "|     2 | A     |\n",
      "|     2 | B     |\n",
      "|     2 | True  |\n",
      "|     1 | False | \n",
      "\n",
      "|   foo |   bar |\n",
      "|------:|------:|\n",
      "|     1 |     1 |\n",
      "|   222 |     2 |\n",
      "|   222 |     3 |\n",
      "|   222 |     1 |\n",
      "|     1 |     0 | \n",
      "\n"
     ]
    }
   ],
   "source": [
    "df = rf.DataFrame({\"foo\": [1, 2, 2, 2, 1], \"bar\": [1, \"A\", \"B\", True, False]})\n",
    "markdown(df)\n",
    "df = df.replace({\n",
    "    \"foo\": {2: 222}, \n",
    "    \"bar\": {False: 0, True: 1, \"A\": 2, \"B\": 3}\n",
    "})\n",
    "markdown(df)"
   ]
  },
  {
   "cell_type": "code",
   "execution_count": 18,
   "metadata": {},
   "outputs": [
    {
     "name": "stdout",
     "output_type": "stream",
     "text": [
      "|   foo |   bar |\n",
      "|------:|------:|\n",
      "|     0 |    10 |\n",
      "|     1 |    11 |\n",
      "|     2 |    12 |\n",
      "|     3 |    13 |\n",
      "|     4 |    14 |\n",
      "|     5 |    15 |\n",
      "|     6 |    16 |\n",
      "|     7 |    17 |\n",
      "|     8 |    18 |\n",
      "|     9 |    19 | \n",
      "\n",
      "|   foo |   bar |\n",
      "|------:|------:|\n",
      "|     7 |    17 | \n",
      "\n",
      "|   foo |   bar |\n",
      "|------:|------:|\n",
      "|     8 |    18 | \n",
      "\n",
      "|   foo |   bar |\n",
      "|------:|------:|\n",
      "|     6 |    16 |\n",
      "|     8 |    18 |\n",
      "|     1 |    11 | \n",
      "\n",
      "|   foo |   bar |\n",
      "|------:|------:|\n",
      "|     1 |    11 |\n",
      "|     8 |    18 |\n",
      "|     2 |    12 | \n",
      "\n"
     ]
    }
   ],
   "source": [
    "df = rf.DataFrame({\"foo\": range(10), \"bar\": range(10, 20)})\n",
    "markdown(df)\n",
    "df1 = df.sample()\n",
    "markdown(df1)\n",
    "df2 = df.sample(1)\n",
    "markdown(df2)\n",
    "df3 = df.sample(0.3)\n",
    "markdown(df3)\n",
    "df4 = df.sample(3)\n",
    "markdown(df4)"
   ]
  },
  {
   "cell_type": "code",
   "execution_count": 19,
   "metadata": {},
   "outputs": [
    {
     "name": "stdout",
     "output_type": "stream",
     "text": [
      "|   foo |   bar |   baz |\n",
      "|------:|------:|------:|\n",
      "|     1 |     3 |     5 |\n",
      "|     2 |     4 |     6 | \n",
      "\n",
      "|   foo |\n",
      "|------:|\n",
      "|     1 |\n",
      "|     2 | \n",
      "\n",
      "|   foo |   baz |\n",
      "|------:|------:|\n",
      "|     1 |     5 |\n",
      "|     2 |     6 | \n",
      "\n"
     ]
    }
   ],
   "source": [
    "df = rf.DataFrame({\"foo\": [1, 2], \"bar\": [3, 4], \"baz\": [5, 6]})\n",
    "markdown(df)\n",
    "df1 = df.select(\"foo\")\n",
    "markdown(df1)\n",
    "df2 = df.select([\"foo\", \"baz\"])\n",
    "markdown(df2)"
   ]
  },
  {
   "cell_type": "code",
   "execution_count": 20,
   "metadata": {},
   "outputs": [
    {
     "name": "stdout",
     "output_type": "stream",
     "text": [
      "|   foo |   bar |\n",
      "|------:|------:|\n",
      "|     0 |     5 |\n",
      "|     1 |     6 |\n",
      "|     2 |     7 |\n",
      "|     3 |     8 |\n",
      "|     4 |     9 | \n",
      "\n",
      "|   foo |   bar |\n",
      "|------:|------:|\n",
      "|     2 |     7 |\n",
      "|     1 |     6 |\n",
      "|     0 |     5 |\n",
      "|     3 |     8 |\n",
      "|     4 |     9 | \n",
      "\n"
     ]
    }
   ],
   "source": [
    "df = rf.DataFrame({\"foo\": range(5), \"bar\": range(5, 10)})\n",
    "markdown(df)\n",
    "df = df.shuffle()\n",
    "markdown(df)"
   ]
  },
  {
   "cell_type": "code",
   "execution_count": 21,
   "metadata": {},
   "outputs": [
    {
     "name": "stdout",
     "output_type": "stream",
     "text": [
      "| foo   |   bar |\n",
      "|:------|------:|\n",
      "| Z     |     2 |\n",
      "| X     |    -2 |\n",
      "| A     |     4 |\n",
      "| A     |    -4 | \n",
      "\n",
      "| foo   |   bar |\n",
      "|:------|------:|\n",
      "| A     |    -4 |\n",
      "| X     |    -2 |\n",
      "| Z     |     2 |\n",
      "| A     |     4 | \n",
      "\n",
      "| foo   |   bar |\n",
      "|:------|------:|\n",
      "| A     |     4 |\n",
      "| Z     |     2 |\n",
      "| X     |    -2 |\n",
      "| A     |    -4 | \n",
      "\n",
      "| foo   |   bar |\n",
      "|:------|------:|\n",
      "| A     |    -4 |\n",
      "| A     |     4 |\n",
      "| X     |    -2 |\n",
      "| Z     |     2 | \n",
      "\n"
     ]
    }
   ],
   "source": [
    "df = rf.DataFrame({\"foo\": [\"Z\", \"X\", \"A\", \"A\"], \"bar\": [2, -2, 4, -4]})\n",
    "markdown(df)\n",
    "df1 = df.sort(\"bar\")\n",
    "markdown(df1)\n",
    "df2 = df.sort(\"bar\", descending=True)\n",
    "markdown(df2)\n",
    "df3 = df.sort([\"foo\", \"bar\"], descending=False)\n",
    "markdown(df3)"
   ]
  },
  {
   "cell_type": "code",
   "execution_count": 22,
   "metadata": {},
   "outputs": [
    {
     "name": "stdout",
     "output_type": "stream",
     "text": [
      "| foo   |\n",
      "|:------|\n",
      "| A::1  |\n",
      "| B::2  |\n",
      "| C:3   | \n",
      "\n",
      "| foo   |   bar |\n",
      "|:------|------:|\n",
      "| A     |     1 |\n",
      "| B     |     2 |\n",
      "| C:3   |       | \n",
      "\n"
     ]
    }
   ],
   "source": [
    "df = rf.DataFrame({\"foo\": [\"A::1\", \"B::2\", \"C:3\"]})\n",
    "markdown(df)\n",
    "df = df.split(\"foo\", into=[\"foo\", \"bar\"], sep=\"::\", drop=True)\n",
    "markdown(df)"
   ]
  },
  {
   "cell_type": "code",
   "execution_count": 23,
   "metadata": {},
   "outputs": [
    {
     "name": "stdout",
     "output_type": "stream",
     "text": [
      "| foo   |   bar |\n",
      "|:------|------:|\n",
      "| A     |     1 |\n",
      "| A     |     2 |\n",
      "| A     |     3 |\n",
      "| B     |     4 |\n",
      "| B     |     5 |\n",
      "| B     |     6 |\n",
      "| B     |     7 | \n",
      "\n",
      "|   A |   B |\n",
      "|----:|----:|\n",
      "|   1 |   4 |\n",
      "|   2 |   5 |\n",
      "|   3 |   6 |\n",
      "| nan |   7 | \n",
      "\n"
     ]
    }
   ],
   "source": [
    "df = rf.DataFrame({\"foo\": [\"A\", \"A\", \"A\", \"B\", \"B\", \"B\", \"B\"], \"bar\": [1, 2, 3, 4, 5, 6, 7]})\n",
    "markdown(df)\n",
    "df = df.spread(\"foo\", using=\"bar\")\n",
    "markdown(df)"
   ]
  },
  {
   "cell_type": "code",
   "execution_count": 24,
   "metadata": {},
   "outputs": [
    {
     "name": "stdout",
     "output_type": "stream",
     "text": [
      "|   foo |   bar |\n",
      "|------:|------:|\n",
      "|     1 |    99 |\n",
      "|     2 |   100 |\n",
      "|     3 |     1 |\n",
      "|     4 |    -5 |\n",
      "|     5 |     2 | \n",
      "\n",
      "|   fcount |   fmean |   fsum |   fmax |   bmedian |   bmin |   bstd |\n",
      "|---------:|--------:|-------:|-------:|----------:|-------:|-------:|\n",
      "|        5 |       3 |     15 |      5 |         2 |     -5 |  54.93 | \n",
      "\n"
     ]
    }
   ],
   "source": [
    "df = rf.DataFrame({\"foo\": [1, 2, 3, 4, 5], \"bar\": [99, 100, 1, -5, 2]})\n",
    "markdown(df)\n",
    "df = df.summarize({\n",
    "    \"fcount\": (\"foo\", rf.stat.count),\n",
    "    \"fmean\": (\"foo\", rf.stat.mean),\n",
    "    \"fsum\": (\"foo\", rf.stat.sum),\n",
    "    \"fmax\": (\"foo\", rf.stat.max),\n",
    "    \"bmedian\": (\"bar\", rf.stat.median),\n",
    "    \"bmin\": (\"bar\", rf.stat.min),\n",
    "    \"bstd\": (\"bar\", rf.stat.std)\n",
    "})\n",
    "markdown(df)"
   ]
  },
  {
   "cell_type": "code",
   "execution_count": 25,
   "metadata": {},
   "outputs": [
    {
     "name": "stdout",
     "output_type": "stream",
     "text": [
      "|   foo |\n",
      "|------:|\n",
      "|     0 |\n",
      "|     1 |\n",
      "|     2 |\n",
      "|     3 |\n",
      "|     4 |\n",
      "|     5 |\n",
      "|     6 |\n",
      "|     7 |\n",
      "|     8 |\n",
      "|     9 | \n",
      "\n",
      "|   foo |\n",
      "|------:|\n",
      "|     0 | \n",
      "\n",
      "|   foo |\n",
      "|------:|\n",
      "|     8 |\n",
      "|     9 | \n",
      "\n"
     ]
    }
   ],
   "source": [
    "df = rf.DataFrame({\"foo\": range(10)})\n",
    "markdown(df)\n",
    "df1 = df.take(1)\n",
    "markdown(df1)\n",
    "df2 = df.take(-2)\n",
    "markdown(df2)"
   ]
  }
 ],
 "metadata": {
  "kernelspec": {
   "display_name": "Python 3.9.11 ('venv': venv)",
   "language": "python",
   "name": "python3"
  },
  "language_info": {
   "codemirror_mode": {
    "name": "ipython",
    "version": 3
   },
   "file_extension": ".py",
   "mimetype": "text/x-python",
   "name": "python",
   "nbconvert_exporter": "python",
   "pygments_lexer": "ipython3",
   "version": "3.9.11"
  },
  "orig_nbformat": 4,
  "vscode": {
   "interpreter": {
    "hash": "902b3964cc0fd8c5f56a5e6d7b3fb1813b76e5dc8a4888dd00cf91d4b7198f4a"
   }
  }
 },
 "nbformat": 4,
 "nbformat_minor": 2
}
