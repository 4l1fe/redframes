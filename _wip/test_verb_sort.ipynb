{
 "cells": [
  {
   "cell_type": "code",
   "execution_count": 1,
   "metadata": {},
   "outputs": [],
   "source": [
    "import redframes as rf"
   ]
  },
  {
   "cell_type": "code",
   "execution_count": 5,
   "metadata": {},
   "outputs": [
    {
     "data": {
      "text/plain": [
       "True"
      ]
     },
     "execution_count": 5,
     "metadata": {},
     "output_type": "execute_result"
    }
   ],
   "source": [
    "# no side effects\n",
    "\n",
    "df = rf.DataFrame({\"foo\": [2, 3, 1, 4, 0]})\n",
    "_ = df.sort(\"foo\")\n",
    "expected = rf.DataFrame({\"foo\": [2, 3, 1, 4, 0]})\n",
    "df == expected"
   ]
  },
  {
   "cell_type": "code",
   "execution_count": 8,
   "metadata": {},
   "outputs": [
    {
     "data": {
      "text/plain": [
       "True"
      ]
     },
     "execution_count": 8,
     "metadata": {},
     "output_type": "execute_result"
    }
   ],
   "source": [
    "# good index\n",
    "\n",
    "df = rf.DataFrame({\"foo\": [2, 3, 1, 4, 0]})\n",
    "df = df.sort(\"foo\")\n",
    "result = list(df._data.index)\n",
    "expected = [0, 1, 2, 3, 4]\n",
    "result == expected"
   ]
  },
  {
   "cell_type": "code",
   "execution_count": 9,
   "metadata": {},
   "outputs": [
    {
     "ename": "KeyError",
     "evalue": "\"invalid key {'baz'}\"",
     "output_type": "error",
     "traceback": [
      "\u001b[0;31m---------------------------------------------------------------------------\u001b[0m",
      "\u001b[0;31mKeyError\u001b[0m                                  Traceback (most recent call last)",
      "Cell \u001b[0;32mIn [9], line 4\u001b[0m\n\u001b[1;32m      1\u001b[0m \u001b[38;5;66;03m# bad key\u001b[39;00m\n\u001b[1;32m      3\u001b[0m df \u001b[38;5;241m=\u001b[39m rf\u001b[38;5;241m.\u001b[39mDataFrame({\u001b[38;5;124m\"\u001b[39m\u001b[38;5;124mfoo\u001b[39m\u001b[38;5;124m\"\u001b[39m: [\u001b[38;5;241m1\u001b[39m, \u001b[38;5;241m1\u001b[39m, \u001b[38;5;241m2\u001b[39m, \u001b[38;5;241m2\u001b[39m, \u001b[38;5;241m3\u001b[39m], \u001b[38;5;124m\"\u001b[39m\u001b[38;5;124mbar\u001b[39m\u001b[38;5;124m\"\u001b[39m: [\u001b[38;5;241m1\u001b[39m, \u001b[38;5;241m-\u001b[39m\u001b[38;5;241m7\u001b[39m, \u001b[38;5;241m5\u001b[39m, \u001b[38;5;241m4\u001b[39m, \u001b[38;5;241m5\u001b[39m]})\n\u001b[0;32m----> 4\u001b[0m \u001b[43mdf\u001b[49m\u001b[38;5;241;43m.\u001b[39;49m\u001b[43msort\u001b[49m\u001b[43m(\u001b[49m\u001b[38;5;124;43m\"\u001b[39;49m\u001b[38;5;124;43mbaz\u001b[39;49m\u001b[38;5;124;43m\"\u001b[39;49m\u001b[43m)\u001b[49m\n",
      "File \u001b[0;32m~/Repos/redframes/redframes/dataframe/__init__.py:233\u001b[0m, in \u001b[0;36mDataFrame.sort\u001b[0;34m(self, columns, descending)\u001b[0m\n\u001b[1;32m    232\u001b[0m \u001b[39mdef\u001b[39;00m \u001b[39msort\u001b[39m(\u001b[39mself\u001b[39m, columns: \u001b[39mlist\u001b[39m[\u001b[39mstr\u001b[39m] \u001b[39m|\u001b[39m \u001b[39mstr\u001b[39m, \u001b[39m*\u001b[39m, descending: \u001b[39mbool\u001b[39m \u001b[39m=\u001b[39m \u001b[39mFalse\u001b[39;00m) \u001b[39m-\u001b[39m\u001b[39m>\u001b[39m DataFrame:\n\u001b[0;32m--> 233\u001b[0m     data \u001b[39m=\u001b[39m sort(\u001b[39mself\u001b[39;49m\u001b[39m.\u001b[39;49m_data, columns, descending)\n\u001b[1;32m    234\u001b[0m     \u001b[39mreturn\u001b[39;00m _wrap(data)\n",
      "File \u001b[0;32m~/Repos/redframes/redframes/dataframe/verbs/sort.py:13\u001b[0m, in \u001b[0;36msort\u001b[0;34m(df, columns, descending)\u001b[0m\n\u001b[1;32m     11\u001b[0m \u001b[39mif\u001b[39;00m \u001b[39mnot\u001b[39;00m \u001b[39misinstance\u001b[39m(descending, \u001b[39mbool\u001b[39m):\n\u001b[1;32m     12\u001b[0m     \u001b[39mraise\u001b[39;00m \u001b[39mTypeError\u001b[39;00m(\u001b[39m\"\u001b[39m\u001b[39mmust be bool\u001b[39m\u001b[39m\"\u001b[39m)\n\u001b[0;32m---> 13\u001b[0m _validate_columns_keys(columns, df\u001b[39m.\u001b[39;49mcolumns)\n\u001b[1;32m     14\u001b[0m df \u001b[39m=\u001b[39m df\u001b[39m.\u001b[39msort_values(by\u001b[39m=\u001b[39mcolumns, ascending\u001b[39m=\u001b[39m\u001b[39mnot\u001b[39;00m descending)\n\u001b[1;32m     15\u001b[0m df \u001b[39m=\u001b[39m df\u001b[39m.\u001b[39mreset_index(drop\u001b[39m=\u001b[39m\u001b[39mTrue\u001b[39;00m)\n",
      "File \u001b[0;32m~/Repos/redframes/redframes/dataframe/verbs/_validate.py:31\u001b[0m, in \u001b[0;36m_validate_columns_keys\u001b[0;34m(columns, actual)\u001b[0m\n\u001b[1;32m     29\u001b[0m \u001b[39mif\u001b[39;00m bad_keys:\n\u001b[1;32m     30\u001b[0m     \u001b[39mif\u001b[39;00m \u001b[39mlen\u001b[39m(bad_keys) \u001b[39m==\u001b[39m \u001b[39m1\u001b[39m:\n\u001b[0;32m---> 31\u001b[0m         \u001b[39mraise\u001b[39;00m \u001b[39mKeyError\u001b[39;00m(\u001b[39mf\u001b[39m\u001b[39m\"\u001b[39m\u001b[39minvalid key \u001b[39m\u001b[39m{\u001b[39;00mbad_keys\u001b[39m}\u001b[39;00m\u001b[39m\"\u001b[39m)\n\u001b[1;32m     32\u001b[0m     \u001b[39melse\u001b[39;00m:\n\u001b[1;32m     33\u001b[0m         \u001b[39mraise\u001b[39;00m \u001b[39mKeyError\u001b[39;00m(\u001b[39mf\u001b[39m\u001b[39m\"\u001b[39m\u001b[39minvalid keys \u001b[39m\u001b[39m{\u001b[39;00mbad_keys\u001b[39m}\u001b[39;00m\u001b[39m\"\u001b[39m)\n",
      "\u001b[0;31mKeyError\u001b[0m: \"invalid key {'baz'}\""
     ]
    }
   ],
   "source": [
    "# bad key\n",
    "\n",
    "df = rf.DataFrame({\"foo\": [1, 1, 2, 2, 3], \"bar\": [1, -7, 5, 4, 5]})\n",
    "df.sort(\"baz\")"
   ]
  },
  {
   "cell_type": "code",
   "execution_count": 10,
   "metadata": {},
   "outputs": [
    {
     "ename": "TypeError",
     "evalue": "must be bool",
     "output_type": "error",
     "traceback": [
      "\u001b[0;31m---------------------------------------------------------------------------\u001b[0m",
      "\u001b[0;31mTypeError\u001b[0m                                 Traceback (most recent call last)",
      "Cell \u001b[0;32mIn [10], line 4\u001b[0m\n\u001b[1;32m      1\u001b[0m \u001b[38;5;66;03m# bad bool\u001b[39;00m\n\u001b[1;32m      3\u001b[0m df \u001b[38;5;241m=\u001b[39m rf\u001b[38;5;241m.\u001b[39mDataFrame({\u001b[38;5;124m\"\u001b[39m\u001b[38;5;124mfoo\u001b[39m\u001b[38;5;124m\"\u001b[39m: [\u001b[38;5;241m1\u001b[39m, \u001b[38;5;241m1\u001b[39m, \u001b[38;5;241m2\u001b[39m, \u001b[38;5;241m2\u001b[39m, \u001b[38;5;241m3\u001b[39m], \u001b[38;5;124m\"\u001b[39m\u001b[38;5;124mbar\u001b[39m\u001b[38;5;124m\"\u001b[39m: [\u001b[38;5;241m1\u001b[39m, \u001b[38;5;241m-\u001b[39m\u001b[38;5;241m7\u001b[39m, \u001b[38;5;241m5\u001b[39m, \u001b[38;5;241m4\u001b[39m, \u001b[38;5;241m5\u001b[39m]})\n\u001b[0;32m----> 4\u001b[0m \u001b[43mdf\u001b[49m\u001b[38;5;241;43m.\u001b[39;49m\u001b[43msort\u001b[49m\u001b[43m(\u001b[49m\u001b[38;5;124;43m\"\u001b[39;49m\u001b[38;5;124;43mfoo\u001b[39;49m\u001b[38;5;124;43m\"\u001b[39;49m\u001b[43m,\u001b[49m\u001b[43m \u001b[49m\u001b[43mdescending\u001b[49m\u001b[38;5;241;43m=\u001b[39;49m\u001b[38;5;241;43m10\u001b[39;49m\u001b[43m)\u001b[49m\n",
      "File \u001b[0;32m~/Repos/redframes/redframes/dataframe/__init__.py:233\u001b[0m, in \u001b[0;36mDataFrame.sort\u001b[0;34m(self, columns, descending)\u001b[0m\n\u001b[1;32m    232\u001b[0m \u001b[39mdef\u001b[39;00m \u001b[39msort\u001b[39m(\u001b[39mself\u001b[39m, columns: \u001b[39mlist\u001b[39m[\u001b[39mstr\u001b[39m] \u001b[39m|\u001b[39m \u001b[39mstr\u001b[39m, \u001b[39m*\u001b[39m, descending: \u001b[39mbool\u001b[39m \u001b[39m=\u001b[39m \u001b[39mFalse\u001b[39;00m) \u001b[39m-\u001b[39m\u001b[39m>\u001b[39m DataFrame:\n\u001b[0;32m--> 233\u001b[0m     data \u001b[39m=\u001b[39m sort(\u001b[39mself\u001b[39;49m\u001b[39m.\u001b[39;49m_data, columns, descending)\n\u001b[1;32m    234\u001b[0m     \u001b[39mreturn\u001b[39;00m _wrap(data)\n",
      "File \u001b[0;32m~/Repos/redframes/redframes/dataframe/verbs/sort.py:12\u001b[0m, in \u001b[0;36msort\u001b[0;34m(df, columns, descending)\u001b[0m\n\u001b[1;32m      8\u001b[0m \u001b[39mdef\u001b[39;00m \u001b[39msort\u001b[39m(\n\u001b[1;32m      9\u001b[0m     df: pd\u001b[39m.\u001b[39mDataFrame, columns: \u001b[39mlist\u001b[39m[\u001b[39mstr\u001b[39m] \u001b[39m|\u001b[39m \u001b[39mstr\u001b[39m, descending: \u001b[39mbool\u001b[39m \u001b[39m=\u001b[39m \u001b[39mFalse\u001b[39;00m\n\u001b[1;32m     10\u001b[0m ) \u001b[39m-\u001b[39m\u001b[39m>\u001b[39m pd\u001b[39m.\u001b[39mDataFrame:\n\u001b[1;32m     11\u001b[0m     \u001b[39mif\u001b[39;00m \u001b[39mnot\u001b[39;00m \u001b[39misinstance\u001b[39m(descending, \u001b[39mbool\u001b[39m):\n\u001b[0;32m---> 12\u001b[0m         \u001b[39mraise\u001b[39;00m \u001b[39mTypeError\u001b[39;00m(\u001b[39m\"\u001b[39m\u001b[39mmust be bool\u001b[39m\u001b[39m\"\u001b[39m)\n\u001b[1;32m     13\u001b[0m     _validate_columns_type_list_str(columns)\n\u001b[1;32m     14\u001b[0m     _validate_columns_keys(columns, df\u001b[39m.\u001b[39mcolumns)\n",
      "\u001b[0;31mTypeError\u001b[0m: must be bool"
     ]
    }
   ],
   "source": [
    "# bad bool\n",
    "\n",
    "df = rf.DataFrame({\"foo\": [1, 1, 2, 2, 3], \"bar\": [1, -7, 5, 4, 5]})\n",
    "df.sort(\"foo\", descending=10)"
   ]
  },
  {
   "cell_type": "code",
   "execution_count": 12,
   "metadata": {},
   "outputs": [
    {
     "data": {
      "text/plain": [
       "True"
      ]
     },
     "execution_count": 12,
     "metadata": {},
     "output_type": "execute_result"
    }
   ],
   "source": [
    "# test sort 1\n",
    "\n",
    "df = rf.DataFrame({\"foo\": [1, 1, 2, 2, 3, -1], \"bar\": [1, -7, 5, 4, 5, 6]})\n",
    "result = df.sort(\"bar\")\n",
    "expected = rf.DataFrame(\n",
    "    {\"foo\": [1, 1, 2, 2, 3, -1], \"bar\": [-7, 1, 4, 5, 5, 6]}\n",
    ")\n",
    "result == expected"
   ]
  },
  {
   "cell_type": "code",
   "execution_count": 13,
   "metadata": {},
   "outputs": [
    {
     "data": {
      "text/plain": [
       "True"
      ]
     },
     "execution_count": 13,
     "metadata": {},
     "output_type": "execute_result"
    }
   ],
   "source": [
    "df = rf.DataFrame({\"foo\": [1, 1, 2, 2, 3, -1], \"bar\": [1, -7, 5, 4, 5, 6]})\n",
    "result = df.sort([\"bar\", \"foo\"])\n",
    "expected = rf.DataFrame(\n",
    "    {\"foo\": [1, 1, 2, 2, 3, -1], \"bar\": [-7, 1, 4, 5, 5, 6]}\n",
    ")\n",
    "result == expected"
   ]
  },
  {
   "cell_type": "code",
   "execution_count": 14,
   "metadata": {},
   "outputs": [
    {
     "data": {
      "text/plain": [
       "True"
      ]
     },
     "execution_count": 14,
     "metadata": {},
     "output_type": "execute_result"
    }
   ],
   "source": [
    "df = rf.DataFrame({\"foo\": [1, 1, 2, 2, 3, -1], \"bar\": [1, -7, 5, 4, 5, 6]})\n",
    "result = df.sort([\"foo\", \"bar\"])\n",
    "expected = rf.DataFrame(\n",
    "    {\"foo\": [-1, 1, 1, 2, 2, 3], \"bar\": [6, -7, 1, 4, 5, 5]}\n",
    ")\n",
    "result == expected"
   ]
  },
  {
   "cell_type": "code",
   "execution_count": 15,
   "metadata": {},
   "outputs": [
    {
     "data": {
      "text/plain": [
       "True"
      ]
     },
     "execution_count": 15,
     "metadata": {},
     "output_type": "execute_result"
    }
   ],
   "source": [
    "df = rf.DataFrame({\"foo\": range(5)})\n",
    "result = df.sort([\"foo\"], descending=True)\n",
    "expected = rf.DataFrame({\"foo\": [4, 3, 2, 1, 0]})\n",
    "result == expected"
   ]
  }
 ],
 "metadata": {
  "kernelspec": {
   "display_name": "Python 3.9.11 ('venv': venv)",
   "language": "python",
   "name": "python3"
  },
  "language_info": {
   "codemirror_mode": {
    "name": "ipython",
    "version": 3
   },
   "file_extension": ".py",
   "mimetype": "text/x-python",
   "name": "python",
   "nbconvert_exporter": "python",
   "pygments_lexer": "ipython3",
   "version": "3.9.11"
  },
  "orig_nbformat": 4,
  "vscode": {
   "interpreter": {
    "hash": "902b3964cc0fd8c5f56a5e6d7b3fb1813b76e5dc8a4888dd00cf91d4b7198f4a"
   }
  }
 },
 "nbformat": 4,
 "nbformat_minor": 2
}
