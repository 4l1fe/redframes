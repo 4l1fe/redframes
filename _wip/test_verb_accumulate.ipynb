{
 "cells": [
  {
   "cell_type": "code",
   "execution_count": null,
   "metadata": {},
   "outputs": [],
   "source": [
    "import redframes as rf"
   ]
  },
  {
   "cell_type": "code",
   "execution_count": null,
   "metadata": {},
   "outputs": [],
   "source": [
    "# test no side effects\n",
    "df = rf.DataFrame({\"foo\": [1, 2, 3, 4]})\n",
    "df_start = df\n",
    "_ = df.accumulate(\"foo\", into=\"cumsum\")\n",
    "expected = rf.DataFrame({\"foo\": [1, 2, 3, 4]})\n",
    "df_start == expected"
   ]
  },
  {
   "cell_type": "code",
   "execution_count": null,
   "metadata": {},
   "outputs": [],
   "source": [
    "# test_accumulate_good\n",
    "df = rf.DataFrame({\"foo\": [1, 2, 3, 4, 10, 1, 3], \"bar\": [\"A\", \"A\", \"B\", \"A\", \"B\", \"B\", \"A\"]})\n",
    "result = df.accumulate(\"foo\", into=\"cumsum\")\n",
    "expected = rf.DataFrame({\n",
    "    'foo': [1, 2, 3, 4, 10, 1, 3],\n",
    "    'bar': ['A', 'A', 'B', 'A', 'B', 'B', 'A'],\n",
    "    'cumsum': [1, 3, 6, 10, 20, 21, 24]\n",
    "})\n",
    "\n",
    "result == expected"
   ]
  },
  {
   "cell_type": "code",
   "execution_count": null,
   "metadata": {},
   "outputs": [],
   "source": [
    "# overwriting exsiting column?\n",
    "df.accumulate(\"foo\", into=\"bar\")"
   ]
  },
  {
   "cell_type": "code",
   "execution_count": null,
   "metadata": {},
   "outputs": [],
   "source": [
    "# new column\n",
    "df.accumulate(\"foo\", into=\"baz\")"
   ]
  },
  {
   "cell_type": "code",
   "execution_count": null,
   "metadata": {},
   "outputs": [],
   "source": [
    "# bad key\n",
    "df.accumulate(\"oof\", into=\"foo\")"
   ]
  },
  {
   "cell_type": "code",
   "execution_count": null,
   "metadata": {},
   "outputs": [],
   "source": [
    "import redframes as rf\n",
    "\n",
    "df = rf.DataFrame({\"foo\": [1, 2, 3, 4, 10, 1, 3], \"bar\": [\"A\", \"A\", \"B\", \"A\", \"B\", \"B\", \"A\"]})\n",
    "\n",
    "df.group(\"bar\").accumulate(\"foo\", into=\"foo\")"
   ]
  }
 ],
 "metadata": {
  "kernelspec": {
   "display_name": "Python 3.9.11 ('venv': venv)",
   "language": "python",
   "name": "python3"
  },
  "language_info": {
   "codemirror_mode": {
    "name": "ipython",
    "version": 3
   },
   "file_extension": ".py",
   "mimetype": "text/x-python",
   "name": "python",
   "nbconvert_exporter": "python",
   "pygments_lexer": "ipython3",
   "version": "3.9.11"
  },
  "orig_nbformat": 4,
  "vscode": {
   "interpreter": {
    "hash": "902b3964cc0fd8c5f56a5e6d7b3fb1813b76e5dc8a4888dd00cf91d4b7198f4a"
   }
  }
 },
 "nbformat": 4,
 "nbformat_minor": 2
}
