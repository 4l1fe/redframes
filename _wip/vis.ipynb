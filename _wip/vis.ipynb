{
 "cells": [
  {
   "cell_type": "code",
   "execution_count": 4,
   "metadata": {},
   "outputs": [],
   "source": [
    "import redframes as rf\n",
    "import pandas as pd\n",
    "import matplotlib.pyplot as plt\n",
    "\n",
    "pdf = pd.DataFrame([\n",
    "    [12, \"D'Marcus\", \"Williums\", \"East\", \"WR\", 253.21],\n",
    "    [14, \"T.J.\", \"Juckson\", \"East\", \"WR\", 239.99],\n",
    "    [67, \"T'Variuness\", \"King\", \"East\", \"WR\", 173.46],\n",
    "    [88, \"Tyroil\", \"Smoochie-Wallace\", \"East\", \"QB\", 367.15],\n",
    "    [91, \"D'Squarius\", \"Green, Jr.\", \"East\", \"TE\", None],\n",
    "    [3, \"Ibrahim\", \"Moizoos\", \"East\", \"TE\", 134.21],\n",
    "    [13, \"Jackmerius\", \"Tacktheratrix\", \"East\", \"RB\", 228.42],\n",
    "    [55, \"D'Isiah T.\", \"Billings-Clyde\", \"East\", \"WR\", 100],\n",
    "    [0, \"D'Jasper\", \"Probincrux III\", \"East\", \"RB\", 180.14],\n",
    "    [1, \"Leoz Maxwell\", \"Jilliumz\", \"East\", None, 170.21],\n",
    "    [68, \"Javaris Jamar\", \"Javarison-Lamar\", \"East\", \"WR\", 87.29],\n",
    "    [69, \"Davoin\", \"Shower-Handel\", None, \"TE\", 99.76],\n",
    "    [77, \"Hingle\", \"McCringleberry\", None, \"RB\", 132.63],\n",
    "    [89, \"L'Carpetron\", \"Dookmarriot\", \"East\", \"QB\", 240.5],\n",
    "    [20, \"J'Dinkalage\", \"Morgoone\", \"East\", \"K\", 118.12],\n",
    "    [17, \"Xmus Jaxon\", \"Flaxon-Waxon\", \"East\", \"QB\", 211.07],\n",
    "    [10, \"Saggitariutt\", \"Jefferspin\", \"West\", \"QB\", 355.8],\n",
    "    [11, \"D'Glester\", \"Hardunkichud\", \"West\", \"WR\", 305.45],\n",
    "    [91, \"Swirvithan\", \"L'Goodling-Splatt\", \"West\", \"WR\", 147.47],\n",
    "    [44, \"Quatro\", \"Quatro\", \"West\", \"WR\", 98.29],\n",
    "    [19, \"Ozamataz\", \"Buckshank\", \"West\", \"RB\", 85.58],\n",
    "    [12, \"Beezer Twelve\", \"Washingbeard\", \"West\", \"RB\", None],\n",
    "    [55, \"Shakiraquan T.G.I.F.\", \"Carter\", \"West\", \"TE\", 148.33],\n",
    "    [70, \"X-Wing\", \"@Aliciousness\", \"West\", \"RB\", 12.00],\n",
    "    [36, \"Sequester\", \"Grundelplith M.D.\", \"West\", \"WR\", 228.26],\n",
    "    [4, \"Scoish Velociraptor\", \"Maloish\", \"West\", \"TE\", None],\n",
    "    [5, \"T.J. A.J. R.J.\", \"Backslashinfourth V\", \"West\", \"RB\", 183.12],\n",
    "    [33, \"Eeee\", \"Eeeeeeeee\", \"West\", \"QB/RB\", 200.01],\n",
    "    [88, \"Donkey\", \"Teeth\", \"West\", \"TE\", 56.2],\n",
    "    [88, \"Donkey\", \"Teeth\", \"West\", \"TE\", 56.2],\n",
    "    [88, \"Donkey\", \"Teeth\", \"West\", \"TE\", 56.2],\n",
    "    [15, \"Torque (Construction Drilling Noise)\", \"Lewith\", None, \"K\", 153.70],\n",
    "    [6, \"(The Player\", \"Formerly Known As Mousecop)\", None, \"K\", 121.65],\n",
    "    [2, \"Dan\", \"Smith\", \"West\", \"QB\", 367.69]\n",
    "], columns=[\"Number\", \"First Name\", \"Last Name\", \"Team\", \"Position\", \"Points\"])\n",
    "\n",
    "rdf = rf.wrap(pdf)"
   ]
  },
  {
   "cell_type": "code",
   "execution_count": 14,
   "metadata": {},
   "outputs": [],
   "source": [
    "df = (\n",
    "    rdf\n",
    "    .rename({\"Position\": \"position\"})\n",
    "    .filter(lambda row: row[\"position\"] != \"QB/RB\")\n",
    "    .group(\"position\")\n",
    "    .take(3)\n",
    "    .group(\"position\")\n",
    "    .summarize({\"avp\": (\"Points\", rf.stat.mean)})\n",
    "    .sort(\"avp\")\n",
    "    .mutate({\"color\": lambda row: row[\"position\"] in [\"WR\", \"RB\"]})\n",
    "    .replace({\"color\": {False: \"orange\", True: \"red\"}})\n",
    ")"
   ]
  },
  {
   "cell_type": "code",
   "execution_count": 15,
   "metadata": {},
   "outputs": [
    {
     "data": {
      "image/png": "[encoded data removed]",
      "text/plain": [
       "<Figure size 640x480 with 1 Axes>"
      ]
     },
     "metadata": {},
     "output_type": "display_data"
    }
   ],
   "source": [
    "plt.barh(df[\"position\"], df[\"avp\"], color=df[\"color\"]);"
   ]
  },
  {
   "cell_type": "code",
   "execution_count": null,
   "metadata": {},
   "outputs": [],
   "source": []
  }
 ],
 "metadata": {
  "kernelspec": {
   "display_name": "Python 3.9.11 ('venv': venv)",
   "language": "python",
   "name": "python3"
  },
  "language_info": {
   "codemirror_mode": {
    "name": "ipython",
    "version": 3
   },
   "file_extension": ".py",
   "mimetype": "text/x-python",
   "name": "python",
   "nbconvert_exporter": "python",
   "pygments_lexer": "ipython3",
   "version": "3.9.11"
  },
  "orig_nbformat": 4,
  "vscode": {
   "interpreter": {
    "hash": "902b3964cc0fd8c5f56a5e6d7b3fb1813b76e5dc8a4888dd00cf91d4b7198f4a"
   }
  }
 },
 "nbformat": 4,
 "nbformat_minor": 2
}
