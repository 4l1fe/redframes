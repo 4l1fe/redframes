{
 "cells": [
  {
   "cell_type": "code",
   "execution_count": 1,
   "metadata": {},
   "outputs": [
    {
     "ename": "ImportError",
     "evalue": "cannot import name '_validate_keys' from 'redframes.dataframe.verbs._validate' (/Users/max/Repos/redframes/redframes/dataframe/verbs/_validate.py)",
     "output_type": "error",
     "traceback": [
      "\u001b[0;31m---------------------------------------------------------------------------\u001b[0m",
      "\u001b[0;31mImportError\u001b[0m                               Traceback (most recent call last)",
      "Cell \u001b[0;32mIn [1], line 1\u001b[0m\n\u001b[0;32m----> 1\u001b[0m \u001b[38;5;28;01mimport\u001b[39;00m \u001b[38;5;21;01mredframes\u001b[39;00m \u001b[38;5;28;01mas\u001b[39;00m \u001b[38;5;21;01mrf\u001b[39;00m\n",
      "File \u001b[0;32m~/Repos/redframes/redframes/__init__.py:2\u001b[0m\n\u001b[1;32m      1\u001b[0m \u001b[39mfrom\u001b[39;00m \u001b[39m.\u001b[39;00m \u001b[39mimport\u001b[39;00m stat\n\u001b[0;32m----> 2\u001b[0m \u001b[39mfrom\u001b[39;00m \u001b[39m.\u001b[39;00m\u001b[39mdataframe\u001b[39;00m \u001b[39mimport\u001b[39;00m DataFrame\n\u001b[1;32m      3\u001b[0m \u001b[39mfrom\u001b[39;00m \u001b[39m.\u001b[39;00m\u001b[39mio\u001b[39;00m \u001b[39mimport\u001b[39;00m load, save, unwrap, wrap\n",
      "File \u001b[0;32m~/Repos/redframes/redframes/dataframe/__init__.py:9\u001b[0m\n\u001b[1;32m      6\u001b[0m \u001b[39mimport\u001b[39;00m \u001b[39mpandas\u001b[39;00m \u001b[39mas\u001b[39;00m \u001b[39mpd\u001b[39;00m\n\u001b[1;32m      7\u001b[0m \u001b[39mimport\u001b[39;00m \u001b[39mpandas\u001b[39;00m\u001b[39m.\u001b[39;00m\u001b[39mcore\u001b[39;00m\u001b[39m.\u001b[39;00m\u001b[39mgroupby\u001b[39;00m\u001b[39m.\u001b[39;00m\u001b[39mgeneric\u001b[39;00m \u001b[39mas\u001b[39;00m \u001b[39mpg\u001b[39;00m\n\u001b[0;32m----> 9\u001b[0m \u001b[39mfrom\u001b[39;00m \u001b[39m.\u001b[39;00m\u001b[39mverbs\u001b[39;00m \u001b[39mimport\u001b[39;00m (\n\u001b[1;32m     10\u001b[0m     accumulate,\n\u001b[1;32m     11\u001b[0m     append,\n\u001b[1;32m     12\u001b[0m     combine,\n\u001b[1;32m     13\u001b[0m     dedupe,\n\u001b[1;32m     14\u001b[0m     denix,\n\u001b[1;32m     15\u001b[0m     drop,\n\u001b[1;32m     16\u001b[0m     fill,\n\u001b[1;32m     17\u001b[0m     \u001b[39mfilter\u001b[39m,\n\u001b[1;32m     18\u001b[0m     gather,\n\u001b[1;32m     19\u001b[0m     group,\n\u001b[1;32m     20\u001b[0m     join,\n\u001b[1;32m     21\u001b[0m     mutate,\n\u001b[1;32m     22\u001b[0m     rank,\n\u001b[1;32m     23\u001b[0m     rename,\n\u001b[1;32m     24\u001b[0m     replace,\n\u001b[1;32m     25\u001b[0m     sample,\n\u001b[1;32m     26\u001b[0m     select,\n\u001b[1;32m     27\u001b[0m     shuffle,\n\u001b[1;32m     28\u001b[0m     sort,\n\u001b[1;32m     29\u001b[0m     split,\n\u001b[1;32m     30\u001b[0m     spread,\n\u001b[1;32m     31\u001b[0m     summarize,\n\u001b[1;32m     32\u001b[0m     take,\n\u001b[1;32m     33\u001b[0m )\n\u001b[1;32m     36\u001b[0m \u001b[39mdef\u001b[39;00m \u001b[39m_wrap\u001b[39m(data: pd\u001b[39m.\u001b[39mDataFrame) \u001b[39m-\u001b[39m\u001b[39m>\u001b[39m DataFrame:\n\u001b[1;32m     37\u001b[0m     df \u001b[39m=\u001b[39m DataFrame()\n",
      "File \u001b[0;32m~/Repos/redframes/redframes/dataframe/verbs/__init__.py:4\u001b[0m\n\u001b[1;32m      2\u001b[0m \u001b[39mfrom\u001b[39;00m \u001b[39m.\u001b[39;00m\u001b[39mappend\u001b[39;00m \u001b[39mimport\u001b[39;00m append\n\u001b[1;32m      3\u001b[0m \u001b[39mfrom\u001b[39;00m \u001b[39m.\u001b[39;00m\u001b[39mcombine\u001b[39;00m \u001b[39mimport\u001b[39;00m combine\n\u001b[0;32m----> 4\u001b[0m \u001b[39mfrom\u001b[39;00m \u001b[39m.\u001b[39;00m\u001b[39mdedupe\u001b[39;00m \u001b[39mimport\u001b[39;00m dedupe\n\u001b[1;32m      5\u001b[0m \u001b[39mfrom\u001b[39;00m \u001b[39m.\u001b[39;00m\u001b[39mdenix\u001b[39;00m \u001b[39mimport\u001b[39;00m denix\n\u001b[1;32m      6\u001b[0m \u001b[39mfrom\u001b[39;00m \u001b[39m.\u001b[39;00m\u001b[39mdrop\u001b[39;00m \u001b[39mimport\u001b[39;00m drop\n",
      "File \u001b[0;32m~/Repos/redframes/redframes/dataframe/verbs/dedupe.py:5\u001b[0m\n\u001b[1;32m      1\u001b[0m \u001b[39mfrom\u001b[39;00m \u001b[39m__future__\u001b[39;00m \u001b[39mimport\u001b[39;00m annotations\n\u001b[1;32m      3\u001b[0m \u001b[39mimport\u001b[39;00m \u001b[39mpandas\u001b[39;00m \u001b[39mas\u001b[39;00m \u001b[39mpd\u001b[39;00m\n\u001b[0;32m----> 5\u001b[0m \u001b[39mfrom\u001b[39;00m \u001b[39m.\u001b[39;00m\u001b[39m_validate\u001b[39;00m \u001b[39mimport\u001b[39;00m _validate_keys, _validate_type\n\u001b[1;32m      8\u001b[0m \u001b[39mdef\u001b[39;00m \u001b[39mdedupe\u001b[39m(df: pd\u001b[39m.\u001b[39mDataFrame, columns: \u001b[39mlist\u001b[39m[\u001b[39mstr\u001b[39m] \u001b[39m|\u001b[39m \u001b[39mstr\u001b[39m \u001b[39m|\u001b[39m \u001b[39mNone\u001b[39;00m \u001b[39m=\u001b[39m \u001b[39mNone\u001b[39;00m) \u001b[39m-\u001b[39m\u001b[39m>\u001b[39m pd\u001b[39m.\u001b[39mDataFrame:\n\u001b[1;32m      9\u001b[0m     _validate_type(columns)\n",
      "\u001b[0;31mImportError\u001b[0m: cannot import name '_validate_keys' from 'redframes.dataframe.verbs._validate' (/Users/max/Repos/redframes/redframes/dataframe/verbs/_validate.py)"
     ]
    }
   ],
   "source": [
    "import redframes as rf"
   ]
  },
  {
   "cell_type": "code",
   "execution_count": 2,
   "metadata": {},
   "outputs": [
    {
     "ename": "NameError",
     "evalue": "name 'rf' is not defined",
     "output_type": "error",
     "traceback": [
      "\u001b[0;31m---------------------------------------------------------------------------\u001b[0m",
      "\u001b[0;31mNameError\u001b[0m                                 Traceback (most recent call last)",
      "Cell \u001b[0;32mIn [2], line 2\u001b[0m\n\u001b[1;32m      1\u001b[0m \u001b[38;5;66;03m# test no side effects\u001b[39;00m\n\u001b[0;32m----> 2\u001b[0m df \u001b[38;5;241m=\u001b[39m \u001b[43mrf\u001b[49m\u001b[38;5;241m.\u001b[39mDataFrame({\u001b[38;5;124m\"\u001b[39m\u001b[38;5;124mfoo\u001b[39m\u001b[38;5;124m\"\u001b[39m: [\u001b[38;5;241m1\u001b[39m, \u001b[38;5;241m2\u001b[39m, \u001b[38;5;241m3\u001b[39m, \u001b[38;5;241m4\u001b[39m]})\n\u001b[1;32m      3\u001b[0m df_start \u001b[38;5;241m=\u001b[39m df\n\u001b[1;32m      4\u001b[0m _ \u001b[38;5;241m=\u001b[39m df\u001b[38;5;241m.\u001b[39maccumulate(\u001b[38;5;124m\"\u001b[39m\u001b[38;5;124mfoo\u001b[39m\u001b[38;5;124m\"\u001b[39m, into\u001b[38;5;241m=\u001b[39m\u001b[38;5;124m\"\u001b[39m\u001b[38;5;124mcumsum\u001b[39m\u001b[38;5;124m\"\u001b[39m)\n",
      "\u001b[0;31mNameError\u001b[0m: name 'rf' is not defined"
     ]
    }
   ],
   "source": [
    "# test no side effects\n",
    "df = rf.DataFrame({\"foo\": [1, 2, 3, 4]})\n",
    "df_start = df\n",
    "_ = df.accumulate(\"foo\", into=\"cumsum\")\n",
    "expected = rf.DataFrame({\"foo\": [1, 2, 3, 4]})\n",
    "df_start == expected"
   ]
  },
  {
   "cell_type": "code",
   "execution_count": null,
   "metadata": {},
   "outputs": [],
   "source": [
    "# test_accumulate_good\n",
    "df = rf.DataFrame({\"foo\": [1, 2, 3, 4, 10, 1, 3], \"bar\": [\"A\", \"A\", \"B\", \"A\", \"B\", \"B\", \"A\"]})\n",
    "result = df.accumulate(\"foo\", into=\"cumsum\")\n",
    "expected = rf.DataFrame({\n",
    "    'foo': [1, 2, 3, 4, 10, 1, 3],\n",
    "    'bar': ['A', 'A', 'B', 'A', 'B', 'B', 'A'],\n",
    "    'cumsum': [1, 3, 6, 10, 20, 21, 24]\n",
    "})\n",
    "\n",
    "result == expected"
   ]
  },
  {
   "cell_type": "code",
   "execution_count": null,
   "metadata": {},
   "outputs": [],
   "source": [
    "# overwriting exsiting column?\n",
    "df.accumulate(\"foo\", into=\"bar\")"
   ]
  },
  {
   "cell_type": "code",
   "execution_count": null,
   "metadata": {},
   "outputs": [],
   "source": [
    "# new column\n",
    "df.accumulate(\"foo\", into=\"baz\")"
   ]
  },
  {
   "cell_type": "code",
   "execution_count": null,
   "metadata": {},
   "outputs": [],
   "source": [
    "# bad key\n",
    "df.accumulate(\"oof\", into=\"foo\")"
   ]
  },
  {
   "cell_type": "code",
   "execution_count": null,
   "metadata": {},
   "outputs": [],
   "source": [
    "import redframes as rf\n",
    "\n",
    "df = rf.DataFrame({\"foo\": [1, 2, 3, 4, 10, 1, 3], \"bar\": [\"A\", \"A\", \"B\", \"A\", \"B\", \"B\", \"A\"]})\n",
    "\n",
    "df.group(\"bar\").accumulate(\"foo\", into=\"foo\")"
   ]
  }
 ],
 "metadata": {
  "kernelspec": {
   "display_name": "Python 3.9.11 ('venv': venv)",
   "language": "python",
   "name": "python3"
  },
  "language_info": {
   "codemirror_mode": {
    "name": "ipython",
    "version": 3
   },
   "file_extension": ".py",
   "mimetype": "text/x-python",
   "name": "python",
   "nbconvert_exporter": "python",
   "pygments_lexer": "ipython3",
   "version": "3.9.11"
  },
  "orig_nbformat": 4,
  "vscode": {
   "interpreter": {
    "hash": "902b3964cc0fd8c5f56a5e6d7b3fb1813b76e5dc8a4888dd00cf91d4b7198f4a"
   }
  }
 },
 "nbformat": 4,
 "nbformat_minor": 2
}
