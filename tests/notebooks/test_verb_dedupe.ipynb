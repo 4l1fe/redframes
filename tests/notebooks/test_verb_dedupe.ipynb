{
 "cells": [
  {
   "cell_type": "code",
   "execution_count": 9,
   "metadata": {},
   "outputs": [],
   "source": [
    "import redframes as rf"
   ]
  },
  {
   "cell_type": "code",
   "execution_count": 11,
   "metadata": {},
   "outputs": [
    {
     "data": {
      "text/plain": [
       "True"
      ]
     },
     "execution_count": 11,
     "metadata": {},
     "output_type": "execute_result"
    }
   ],
   "source": [
    "# test no side effects\n",
    "df = rf.DataFrame({\"foo\": [1, 2, 3] * 5 + [4]})\n",
    "df_start = df\n",
    "_ = df.dedupe()\n",
    "df_start\n",
    "expected = rf.DataFrame({\"foo\": [1, 2, 3] * 5 + [4]})\n",
    "df_start == expected"
   ]
  },
  {
   "cell_type": "code",
   "execution_count": 12,
   "metadata": {},
   "outputs": [
    {
     "data": {
      "text/plain": [
       "True"
      ]
     },
     "execution_count": 12,
     "metadata": {},
     "output_type": "execute_result"
    }
   ],
   "source": [
    "# test correct index\n",
    "df = rf.DataFrame({\"foo\": [1, 2, 3] * 5 + [4]})\n",
    "result = list(df.dedupe([\"foo\"])._data.index)\n",
    "expected = [0, 1, 2, 3]\n",
    "expected == result"
   ]
  },
  {
   "cell_type": "code",
   "execution_count": 13,
   "metadata": {},
   "outputs": [
    {
     "ename": "KeyError",
     "evalue": "\"columns argument contains invalid key {'bar'}\"",
     "output_type": "error",
     "traceback": [
      "\u001b[0;31m---------------------------------------------------------------------------\u001b[0m",
      "\u001b[0;31mKeyError\u001b[0m                                  Traceback (most recent call last)",
      "Cell \u001b[0;32mIn [13], line 3\u001b[0m\n\u001b[1;32m      1\u001b[0m \u001b[38;5;66;03m# test bad column\u001b[39;00m\n\u001b[1;32m      2\u001b[0m df \u001b[38;5;241m=\u001b[39m rf\u001b[38;5;241m.\u001b[39mDataFrame({\u001b[38;5;124m\"\u001b[39m\u001b[38;5;124mfoo\u001b[39m\u001b[38;5;124m\"\u001b[39m: \u001b[38;5;28mrange\u001b[39m(\u001b[38;5;241m10\u001b[39m)})\n\u001b[0;32m----> 3\u001b[0m \u001b[43mdf\u001b[49m\u001b[38;5;241;43m.\u001b[39;49m\u001b[43mdedupe\u001b[49m\u001b[43m(\u001b[49m\u001b[38;5;124;43m\"\u001b[39;49m\u001b[38;5;124;43mbar\u001b[39;49m\u001b[38;5;124;43m\"\u001b[39;49m\u001b[43m)\u001b[49m\n",
      "File \u001b[0;32m~/Repos/redframes/redframes/dataframe/__init__.py:161\u001b[0m, in \u001b[0;36mDataFrame.dedupe\u001b[0;34m(self, columns)\u001b[0m\n\u001b[1;32m    160\u001b[0m \u001b[39mdef\u001b[39;00m \u001b[39mdedupe\u001b[39m(\u001b[39mself\u001b[39m, \u001b[39m/\u001b[39m, columns: \u001b[39mlist\u001b[39m[\u001b[39mstr\u001b[39m] \u001b[39m|\u001b[39m \u001b[39mstr\u001b[39m \u001b[39m|\u001b[39m \u001b[39mNone\u001b[39;00m \u001b[39m=\u001b[39m \u001b[39mNone\u001b[39;00m) \u001b[39m-\u001b[39m\u001b[39m>\u001b[39m DataFrame:\n\u001b[0;32m--> 161\u001b[0m     data \u001b[39m=\u001b[39m dedupe(\u001b[39mself\u001b[39;49m\u001b[39m.\u001b[39;49m_data, columns)\n\u001b[1;32m    162\u001b[0m     \u001b[39mreturn\u001b[39;00m _wrap(data)\n",
      "File \u001b[0;32m~/Repos/redframes/redframes/dataframe/verbs/dedupe.py:21\u001b[0m, in \u001b[0;36mdedupe\u001b[0;34m(df, columns)\u001b[0m\n\u001b[1;32m     19\u001b[0m         \u001b[39melse\u001b[39;00m: \n\u001b[1;32m     20\u001b[0m             message \u001b[39m=\u001b[39m \u001b[39mf\u001b[39m\u001b[39m\"\u001b[39m\u001b[39mcolumns argument contains invalid keys \u001b[39m\u001b[39m{\u001b[39;00mbad_keys\u001b[39m}\u001b[39;00m\u001b[39m\"\u001b[39m\n\u001b[0;32m---> 21\u001b[0m         \u001b[39mraise\u001b[39;00m \u001b[39mKeyError\u001b[39;00m(message)\n\u001b[1;32m     22\u001b[0m df \u001b[39m=\u001b[39m df\u001b[39m.\u001b[39mdrop_duplicates(subset\u001b[39m=\u001b[39mcolumns, keep\u001b[39m=\u001b[39m\u001b[39m\"\u001b[39m\u001b[39mfirst\u001b[39m\u001b[39m\"\u001b[39m)\n\u001b[1;32m     23\u001b[0m df \u001b[39m=\u001b[39m df\u001b[39m.\u001b[39mreset_index(drop\u001b[39m=\u001b[39m\u001b[39mTrue\u001b[39;00m)\n",
      "\u001b[0;31mKeyError\u001b[0m: \"columns argument contains invalid key {'bar'}\""
     ]
    }
   ],
   "source": [
    "# test bad column\n",
    "df = rf.DataFrame({\"foo\": range(10)})\n",
    "df.dedupe(\"bar\")"
   ]
  },
  {
   "cell_type": "code",
   "execution_count": 4,
   "metadata": {},
   "outputs": [
    {
     "ename": "KeyError",
     "evalue": "\"columns argument contains invalid keys {'baz', 'bar'}\"",
     "output_type": "error",
     "traceback": [
      "\u001b[0;31m---------------------------------------------------------------------------\u001b[0m",
      "\u001b[0;31mKeyError\u001b[0m                                  Traceback (most recent call last)",
      "Cell \u001b[0;32mIn [4], line 3\u001b[0m\n\u001b[1;32m      1\u001b[0m \u001b[38;5;66;03m# test bad columns\u001b[39;00m\n\u001b[1;32m      2\u001b[0m df \u001b[38;5;241m=\u001b[39m rf\u001b[38;5;241m.\u001b[39mDataFrame({\u001b[38;5;124m\"\u001b[39m\u001b[38;5;124mfoo\u001b[39m\u001b[38;5;124m\"\u001b[39m: \u001b[38;5;28mrange\u001b[39m(\u001b[38;5;241m10\u001b[39m)})\n\u001b[0;32m----> 3\u001b[0m \u001b[43mdf\u001b[49m\u001b[38;5;241;43m.\u001b[39;49m\u001b[43mdedupe\u001b[49m\u001b[43m(\u001b[49m\u001b[43m[\u001b[49m\u001b[38;5;124;43m\"\u001b[39;49m\u001b[38;5;124;43mbar\u001b[39;49m\u001b[38;5;124;43m\"\u001b[39;49m\u001b[43m,\u001b[49m\u001b[43m \u001b[49m\u001b[38;5;124;43m\"\u001b[39;49m\u001b[38;5;124;43mbaz\u001b[39;49m\u001b[38;5;124;43m\"\u001b[39;49m\u001b[43m]\u001b[49m\u001b[43m)\u001b[49m\n",
      "File \u001b[0;32m~/Repos/redframes/redframes/dataframe/__init__.py:161\u001b[0m, in \u001b[0;36mDataFrame.dedupe\u001b[0;34m(self, columns)\u001b[0m\n\u001b[1;32m    160\u001b[0m \u001b[39mdef\u001b[39;00m \u001b[39mdedupe\u001b[39m(\u001b[39mself\u001b[39m, \u001b[39m/\u001b[39m, columns: \u001b[39mlist\u001b[39m[\u001b[39mstr\u001b[39m] \u001b[39m|\u001b[39m \u001b[39mstr\u001b[39m \u001b[39m|\u001b[39m \u001b[39mNone\u001b[39;00m \u001b[39m=\u001b[39m \u001b[39mNone\u001b[39;00m) \u001b[39m-\u001b[39m\u001b[39m>\u001b[39m DataFrame:\n\u001b[0;32m--> 161\u001b[0m     data \u001b[39m=\u001b[39m dedupe(\u001b[39mself\u001b[39;49m\u001b[39m.\u001b[39;49m_data, columns)\n\u001b[1;32m    162\u001b[0m     \u001b[39mreturn\u001b[39;00m _wrap(data)\n",
      "File \u001b[0;32m~/Repos/redframes/redframes/dataframe/verbs/dedupe.py:21\u001b[0m, in \u001b[0;36mdedupe\u001b[0;34m(df, columns)\u001b[0m\n\u001b[1;32m     19\u001b[0m         \u001b[39melse\u001b[39;00m: \n\u001b[1;32m     20\u001b[0m             message \u001b[39m=\u001b[39m \u001b[39mf\u001b[39m\u001b[39m\"\u001b[39m\u001b[39mcolumns argument contains invalid keys \u001b[39m\u001b[39m{\u001b[39;00mbad_keys\u001b[39m}\u001b[39;00m\u001b[39m\"\u001b[39m\n\u001b[0;32m---> 21\u001b[0m         \u001b[39mraise\u001b[39;00m \u001b[39mKeyError\u001b[39;00m(message)\n\u001b[1;32m     22\u001b[0m df \u001b[39m=\u001b[39m df\u001b[39m.\u001b[39mdrop_duplicates(subset\u001b[39m=\u001b[39mcolumns, keep\u001b[39m=\u001b[39m\u001b[39m\"\u001b[39m\u001b[39mfirst\u001b[39m\u001b[39m\"\u001b[39m)\n\u001b[1;32m     23\u001b[0m df \u001b[39m=\u001b[39m df\u001b[39m.\u001b[39mreset_index(drop\u001b[39m=\u001b[39m\u001b[39mTrue\u001b[39;00m)\n",
      "\u001b[0;31mKeyError\u001b[0m: \"columns argument contains invalid keys {'baz', 'bar'}\""
     ]
    }
   ],
   "source": [
    "# test bad columns\n",
    "df = rf.DataFrame({\"foo\": range(10)})\n",
    "df.dedupe([\"bar\", \"baz\"])"
   ]
  },
  {
   "cell_type": "code",
   "execution_count": 14,
   "metadata": {},
   "outputs": [
    {
     "ename": "KeyError",
     "evalue": "\"columns argument contains invalid keys {'bar', 'baz'}\"",
     "output_type": "error",
     "traceback": [
      "\u001b[0;31m---------------------------------------------------------------------------\u001b[0m",
      "\u001b[0;31mKeyError\u001b[0m                                  Traceback (most recent call last)",
      "Cell \u001b[0;32mIn [14], line 3\u001b[0m\n\u001b[1;32m      1\u001b[0m \u001b[38;5;66;03m# test bad columns with correct column\u001b[39;00m\n\u001b[1;32m      2\u001b[0m df \u001b[38;5;241m=\u001b[39m rf\u001b[38;5;241m.\u001b[39mDataFrame({\u001b[38;5;124m\"\u001b[39m\u001b[38;5;124mfoo\u001b[39m\u001b[38;5;124m\"\u001b[39m: \u001b[38;5;28mrange\u001b[39m(\u001b[38;5;241m10\u001b[39m)})\n\u001b[0;32m----> 3\u001b[0m \u001b[43mdf\u001b[49m\u001b[38;5;241;43m.\u001b[39;49m\u001b[43mdedupe\u001b[49m\u001b[43m(\u001b[49m\u001b[43m[\u001b[49m\u001b[38;5;124;43m\"\u001b[39;49m\u001b[38;5;124;43mfoo\u001b[39;49m\u001b[38;5;124;43m\"\u001b[39;49m\u001b[43m,\u001b[49m\u001b[43m \u001b[49m\u001b[38;5;124;43m\"\u001b[39;49m\u001b[38;5;124;43mbar\u001b[39;49m\u001b[38;5;124;43m\"\u001b[39;49m\u001b[43m,\u001b[49m\u001b[43m \u001b[49m\u001b[38;5;124;43m\"\u001b[39;49m\u001b[38;5;124;43mbaz\u001b[39;49m\u001b[38;5;124;43m\"\u001b[39;49m\u001b[43m]\u001b[49m\u001b[43m)\u001b[49m\n",
      "File \u001b[0;32m~/Repos/redframes/redframes/dataframe/__init__.py:161\u001b[0m, in \u001b[0;36mDataFrame.dedupe\u001b[0;34m(self, columns)\u001b[0m\n\u001b[1;32m    160\u001b[0m \u001b[39mdef\u001b[39;00m \u001b[39mdedupe\u001b[39m(\u001b[39mself\u001b[39m, \u001b[39m/\u001b[39m, columns: \u001b[39mlist\u001b[39m[\u001b[39mstr\u001b[39m] \u001b[39m|\u001b[39m \u001b[39mstr\u001b[39m \u001b[39m|\u001b[39m \u001b[39mNone\u001b[39;00m \u001b[39m=\u001b[39m \u001b[39mNone\u001b[39;00m) \u001b[39m-\u001b[39m\u001b[39m>\u001b[39m DataFrame:\n\u001b[0;32m--> 161\u001b[0m     data \u001b[39m=\u001b[39m dedupe(\u001b[39mself\u001b[39;49m\u001b[39m.\u001b[39;49m_data, columns)\n\u001b[1;32m    162\u001b[0m     \u001b[39mreturn\u001b[39;00m _wrap(data)\n",
      "File \u001b[0;32m~/Repos/redframes/redframes/dataframe/verbs/dedupe.py:21\u001b[0m, in \u001b[0;36mdedupe\u001b[0;34m(df, columns)\u001b[0m\n\u001b[1;32m     19\u001b[0m         \u001b[39melse\u001b[39;00m: \n\u001b[1;32m     20\u001b[0m             message \u001b[39m=\u001b[39m \u001b[39mf\u001b[39m\u001b[39m\"\u001b[39m\u001b[39mcolumns argument contains invalid keys \u001b[39m\u001b[39m{\u001b[39;00mbad_keys\u001b[39m}\u001b[39;00m\u001b[39m\"\u001b[39m\n\u001b[0;32m---> 21\u001b[0m         \u001b[39mraise\u001b[39;00m \u001b[39mKeyError\u001b[39;00m(message)\n\u001b[1;32m     22\u001b[0m df \u001b[39m=\u001b[39m df\u001b[39m.\u001b[39mdrop_duplicates(subset\u001b[39m=\u001b[39mcolumns, keep\u001b[39m=\u001b[39m\u001b[39m\"\u001b[39m\u001b[39mfirst\u001b[39m\u001b[39m\"\u001b[39m)\n\u001b[1;32m     23\u001b[0m df \u001b[39m=\u001b[39m df\u001b[39m.\u001b[39mreset_index(drop\u001b[39m=\u001b[39m\u001b[39mTrue\u001b[39;00m)\n",
      "\u001b[0;31mKeyError\u001b[0m: \"columns argument contains invalid keys {'bar', 'baz'}\""
     ]
    }
   ],
   "source": [
    "# test bad columns with correct column\n",
    "df = rf.DataFrame({\"foo\": range(10)})\n",
    "df.dedupe([\"foo\", \"bar\", \"baz\"])"
   ]
  },
  {
   "cell_type": "code",
   "execution_count": 15,
   "metadata": {},
   "outputs": [
    {
     "data": {
      "text/plain": [
       "True"
      ]
     },
     "execution_count": 15,
     "metadata": {},
     "output_type": "execute_result"
    }
   ],
   "source": [
    "# test default\n",
    "df = rf.DataFrame({\"foo\": [1, 1, 1, 2, 2, 2], \"bar\": [1, 2, 3, 4, 5, 5]})\n",
    "result = df.dedupe()\n",
    "expected = rf.DataFrame({\"foo\": [1, 1, 1, 2, 2], \"bar\": [1, 2, 3, 4, 5]})\n",
    "result == expected"
   ]
  },
  {
   "cell_type": "code",
   "execution_count": 16,
   "metadata": {},
   "outputs": [
    {
     "data": {
      "text/plain": [
       "True"
      ]
     },
     "execution_count": 16,
     "metadata": {},
     "output_type": "execute_result"
    }
   ],
   "source": [
    "# test single\n",
    "df = rf.DataFrame({\"foo\": [1, 1, 1, 2, 2, 2], \"bar\": [1, 2, 3, 4, 5, 5]})\n",
    "result = df.dedupe([\"foo\"])\n",
    "expected = rf.DataFrame({\"foo\": [1, 2], \"bar\": [1, 4]})\n",
    "result == expected"
   ]
  },
  {
   "cell_type": "code",
   "execution_count": 23,
   "metadata": {},
   "outputs": [
    {
     "data": {
      "text/plain": [
       "True"
      ]
     },
     "execution_count": 23,
     "metadata": {},
     "output_type": "execute_result"
    }
   ],
   "source": [
    "# test multiple 1\n",
    "\n",
    "df = rf.DataFrame({\"foo\": [\"A\", \"A\", \"A\", \"B\", \"B\"], \"bar\": [\"!\", \"!\", \"!\", \"!\", \"@\"], \"baz\": [1, 2, 3, 4, 5]})\n",
    "result = df.dedupe([\"foo\", \"bar\"])\n",
    "expected = rf.DataFrame({'foo': ['A', 'B', 'B'], 'bar': ['!', '!', '@'], 'baz': [1, 4, 5]})\n",
    "result == expected"
   ]
  },
  {
   "cell_type": "code",
   "execution_count": 26,
   "metadata": {},
   "outputs": [
    {
     "data": {
      "text/plain": [
       "True"
      ]
     },
     "execution_count": 26,
     "metadata": {},
     "output_type": "execute_result"
    }
   ],
   "source": [
    "# test mutlitple 2\n",
    "\n",
    "df = rf.DataFrame({\"foo\": [\"A\", \"A\", \"A\", \"B\", \"B\"], \"bar\": [\"!\", \"!\", \"!\", \"!\", \"@\"], \"baz\": [1, 2, 3, 4, 5]})\n",
    "result = df.dedupe([\"bar\"])\n",
    "expected = rf.DataFrame({'foo': ['A', 'B'], 'bar': ['!', '@'], 'baz': [1, 5]})\n",
    "result == expected"
   ]
  }
 ],
 "metadata": {
  "kernelspec": {
   "display_name": "Python 3.9.11 ('venv': venv)",
   "language": "python",
   "name": "python3"
  },
  "language_info": {
   "codemirror_mode": {
    "name": "ipython",
    "version": 3
   },
   "file_extension": ".py",
   "mimetype": "text/x-python",
   "name": "python",
   "nbconvert_exporter": "python",
   "pygments_lexer": "ipython3",
   "version": "3.9.11"
  },
  "orig_nbformat": 4,
  "vscode": {
   "interpreter": {
    "hash": "902b3964cc0fd8c5f56a5e6d7b3fb1813b76e5dc8a4888dd00cf91d4b7198f4a"
   }
  }
 },
 "nbformat": 4,
 "nbformat_minor": 2
}
