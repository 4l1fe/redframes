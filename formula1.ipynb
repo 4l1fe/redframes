{
 "cells": [
  {
   "cell_type": "code",
   "execution_count": 2,
   "metadata": {},
   "outputs": [
    {
     "name": "stdout",
     "output_type": "stream",
     "text": [
      "rf.DataFrame({'foo': [0, 1, 2, 3, 4, 5, 6, 7, 8, 9]})\n"
     ]
    }
   ],
   "source": [
    "import redframes as rf\n",
    "\n",
    "df = rf.DataFrame({\"foo\": range(10)})\n",
    "\n",
    "print(df)"
   ]
  },
  {
   "cell_type": "code",
   "execution_count": null,
   "metadata": {},
   "outputs": [],
   "source": [
    "import redframes as rf\n",
    "import pandas as pd\n",
    "from gazpacho import Soup\n",
    "\n",
    "soup = Soup.get(\"https://en.wikipedia.org/wiki/Formula_One_sponsorship_liveries\")"
   ]
  },
  {
   "cell_type": "code",
   "execution_count": null,
   "metadata": {},
   "outputs": [],
   "source": [
    "teams_raw = soup.find(\"h2\")\n",
    "\n",
    "teams = []\n",
    "for team in teams_raw[1:-2]:\n",
    "    try: \n",
    "        text = team.find(\"span\", {\"class\": \"mw-headline\"}).text\n",
    "        teams.append(text)\n",
    "    except:\n",
    "        print(team)\n",
    "\n",
    "teams = filter(lambda x: x != \"Hill\", teams)"
   ]
  },
  {
   "cell_type": "code",
   "execution_count": null,
   "metadata": {},
   "outputs": [],
   "source": [
    "tables = soup.find(\"table\", {\"class\": \"wikitable\"})"
   ]
  },
  {
   "cell_type": "code",
   "execution_count": null,
   "metadata": {},
   "outputs": [],
   "source": [
    "df = rf.DataFrame()\n",
    "for team, table in zip(teams, tables):\n",
    "    pdf = pd.read_html(str(table))[0]\n",
    "    rdf = rf.wrap(pdf)\n",
    "    rdf = rdf.mutate({\"team\": lambda _: team})\n",
    "    df = df.append(rdf)"
   ]
  },
  {
   "cell_type": "code",
   "execution_count": null,
   "metadata": {},
   "outputs": [],
   "source": [
    "['Year',\n",
    " 'Main colour(s)',\n",
    " 'Additional colour(s)',\n",
    " 'Main sponsor(s)',\n",
    " 'Additional major sponsor(s)',\n",
    " 'Notes',\n",
    " 'team',\n",
    " 'Non-tobacco liveries',\n",
    " 'Special liveries',\n",
    " 'Livery',\n",
    " 'Non-tobacco/alcohol livery changes',\n",
    " 'Other (tobacco/alcohol censorship, etc.)',\n",
    " 'Livery sponsor(s)',\n",
    " 'Other Informations (including non-tobacco/alcohol race changes)',\n",
    " 'Other information',\n",
    " 'Non Tobacco/Alcohol changes(s)',\n",
    " 'Additional major sponsor(s) / Notes',\n",
    " 'Livery/Principal sponsor(s)',\n",
    " 'Non-tobacco/alcohol livery changes Location-specific livery changes (2011–present)',\n",
    " 'Non-tobacco/alcohol livery changes(s)',\n",
    " 'Non-tobacco/alcohol and other livery changes',\n",
    " 'Other Changes']\n",
    "\n",
    "df"
   ]
  },
  {
   "cell_type": "code",
   "execution_count": null,
   "metadata": {},
   "outputs": [],
   "source": []
  }
 ],
 "metadata": {
  "kernelspec": {
   "display_name": "Python 3.9.11 ('venv': venv)",
   "language": "python",
   "name": "python3"
  },
  "language_info": {
   "codemirror_mode": {
    "name": "ipython",
    "version": 3
   },
   "file_extension": ".py",
   "mimetype": "text/x-python",
   "name": "python",
   "nbconvert_exporter": "python",
   "pygments_lexer": "ipython3",
   "version": "3.9.11"
  },
  "orig_nbformat": 4,
  "vscode": {
   "interpreter": {
    "hash": "902b3964cc0fd8c5f56a5e6d7b3fb1813b76e5dc8a4888dd00cf91d4b7198f4a"
   }
  }
 },
 "nbformat": 4,
 "nbformat_minor": 2
}
