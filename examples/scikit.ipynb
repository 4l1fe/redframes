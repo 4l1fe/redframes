{
 "cells": [
  {
   "cell_type": "code",
   "execution_count": 5,
   "metadata": {},
   "outputs": [
    {
     "data": {
      "text/plain": [
       "\"rf.DataFrame({\\n    'hr': [15, 19, 5, 7, 9, 10, 12, 22, 16, 10],\\n    'age': [21, 22, 21, 24, 26, 28, 30, 35, 28, 21],\\n    'dh': [1, 1, 0, 0, 0, 0, 0, 1, 0, 0]\\n})\""
      ]
     },
     "execution_count": 5,
     "metadata": {},
     "output_type": "execute_result"
    }
   ],
   "source": [
    "from sklearn.linear_model import LinearRegression\n",
    "from sklearn.model_selection import train_test_split\n",
    "import redframes as rf\n",
    "\n",
    "df = rf.DataFrame({\n",
    "    \"hr\": [15, 19, 5, 7, 9, 10, 12, 22, 16, 10],\n",
    "    \"age\": [21, 22, 21, 24, 26, 28, 30, 35, 28, 21],\n",
    "    \"dh\": [1, 1, 0, 0, 0, 0, 0, 1, 0, 0]\n",
    "})\n",
    "\n",
    "str(df)"
   ]
  },
  {
   "cell_type": "code",
   "execution_count": null,
   "metadata": {},
   "outputs": [],
   "source": [
    "import pprint\n",
    "\n",
    "data = {\n",
    "    \"hr\": [15, 19, 5, 7, 9, 10, 12, 22, 16, 10],\n",
    "    \"age\": [21, 22, 21, 24, 26, 28, 30, 35, 28, 21],\n",
    "    \"dh\": [1, 1, 0, 0, 0, 0, 0, 1, 0, 0]\n",
    "}\n",
    "\n",
    "result = pprint.pformat(data, indent=4, sort_dicts=False, compact=True)\n",
    "result = \" \" + result[1:-1]\n",
    "result = f\"rf.DataFrame({{\\n{result}\\n}})\"\n",
    "print(result)"
   ]
  },
  {
   "cell_type": "code",
   "execution_count": null,
   "metadata": {},
   "outputs": [],
   "source": [
    "import json\n",
    "\n",
    "data = {\n",
    "    \"hr\": [15, 19, 5, 7, 9, 10, 12, 22, 16, 10],\n",
    "    \"age\": [21, 22, 21, 24, 26, 28, 30, 35, 28, 21],\n",
    "    \"dh\": [1, 1, 0, 0, 0, 0, 0, 1, 0, 0]\n",
    "}"
   ]
  },
  {
   "cell_type": "code",
   "execution_count": null,
   "metadata": {},
   "outputs": [],
   "source": [
    "target = \"hr\"\n",
    "y = df[target]\n",
    "X = df.drop([target])"
   ]
  },
  {
   "cell_type": "code",
   "execution_count": null,
   "metadata": {},
   "outputs": [],
   "source": [
    "X_train, X_test, y_train, y_test = train_test_split(X, y)"
   ]
  },
  {
   "cell_type": "code",
   "execution_count": null,
   "metadata": {},
   "outputs": [],
   "source": [
    "model = LinearRegression()\n",
    "model.fit(X, y)"
   ]
  },
  {
   "cell_type": "code",
   "execution_count": null,
   "metadata": {},
   "outputs": [],
   "source": [
    "model.score(X, y)"
   ]
  },
  {
   "cell_type": "code",
   "execution_count": null,
   "metadata": {},
   "outputs": [],
   "source": [
    "print(rf.str(X, one=True))"
   ]
  },
  {
   "cell_type": "code",
   "execution_count": null,
   "metadata": {},
   "outputs": [],
   "source": [
    "rf.deconstruct(X, single=True)\n",
    "rf.anatomize(X, single=True)\n",
    "\n",
    "\n",
    "X.take(1)._data.to_dict(orient=\"list\")\n",
    "\n",
    "X_new = rf.DataFrame({'age': [21], 'dh': [1]})\n",
    "\n",
    "model.predict(X_new)"
   ]
  },
  {
   "cell_type": "code",
   "execution_count": null,
   "metadata": {},
   "outputs": [],
   "source": [
    "from sklearn.utils import validation\n",
    "\n",
    "validation._num_samples(X)"
   ]
  },
  {
   "cell_type": "code",
   "execution_count": null,
   "metadata": {},
   "outputs": [],
   "source": [
    "X._data.index.get_loc()"
   ]
  },
  {
   "cell_type": "code",
   "execution_count": null,
   "metadata": {},
   "outputs": [],
   "source": []
  },
  {
   "cell_type": "code",
   "execution_count": null,
   "metadata": {},
   "outputs": [],
   "source": [
    "X.__array__()"
   ]
  },
  {
   "cell_type": "code",
   "execution_count": null,
   "metadata": {},
   "outputs": [],
   "source": [
    "y.__array__()"
   ]
  },
  {
   "cell_type": "code",
   "execution_count": null,
   "metadata": {},
   "outputs": [],
   "source": []
  }
 ],
 "metadata": {
  "kernelspec": {
   "display_name": "Python 3.9.11 ('venv': venv)",
   "language": "python",
   "name": "python3"
  },
  "language_info": {
   "codemirror_mode": {
    "name": "ipython",
    "version": 3
   },
   "file_extension": ".py",
   "mimetype": "text/x-python",
   "name": "python",
   "nbconvert_exporter": "python",
   "pygments_lexer": "ipython3",
   "version": "3.9.11"
  },
  "orig_nbformat": 4,
  "vscode": {
   "interpreter": {
    "hash": "902b3964cc0fd8c5f56a5e6d7b3fb1813b76e5dc8a4888dd00cf91d4b7198f4a"
   }
  }
 },
 "nbformat": 4,
 "nbformat_minor": 2
}
